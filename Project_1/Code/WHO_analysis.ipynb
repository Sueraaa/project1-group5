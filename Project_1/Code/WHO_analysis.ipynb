{
 "cells": [
  {
   "cell_type": "markdown",
   "id": "5282af63-8e20-4197-b439-2a5ced38b15e",
   "metadata": {},
   "source": [
    "# Analysis of WHO data of prevalence of e-cigarette use in adults and adolescents\n",
    "---"
   ]
  },
  {
   "cell_type": "code",
   "execution_count": 10,
   "id": "3a5091b8-6308-40d1-ba10-436b28f75e21",
   "metadata": {},
   "outputs": [
    {
     "name": "stdout",
     "output_type": "stream",
     "text": [
      "Datasets related to e-cigarettes:\n",
      "-----------------------------------------------------\n"
     ]
    },
    {
     "data": {
      "text/plain": [
       "{'@odata.context': 'https://ghoapi.azureedge.net/api/$metadata#Indicator',\n",
       " 'value': [{'IndicatorCode': 'Adult_curr_e-cig',\n",
       "   'IndicatorName': 'Prevalence of current e-cigarette use among adults (%)',\n",
       "   'Language': 'EN'},\n",
       "  {'IndicatorCode': 'Yth_curr_e-cig',\n",
       "   'IndicatorName': 'Prevalence of current e-cigarette use among adolescents (%)',\n",
       "   'Language': 'EN'},\n",
       "  {'IndicatorCode': 'Adult_daily_e-cig',\n",
       "   'IndicatorName': 'Prevalence of daily e-cigarette use among adults (%)',\n",
       "   'Language': 'EN'},\n",
       "  {'IndicatorCode': 'Yth_daily_e-cig',\n",
       "   'IndicatorName': 'Prevalence of daily e-cigarette use among adolescents (%)',\n",
       "   'Language': 'EN'}]}"
      ]
     },
     "execution_count": 10,
     "metadata": {},
     "output_type": "execute_result"
    }
   ],
   "source": [
    "# Import Dependencies\n",
    "import json\n",
    "import requests\n",
    "from pprint import pprint\n",
    "import pandas as pd\n",
    "from pathlib import Path\n",
    "import plotly.express as px\n",
    "import numpy as np\n",
    "import matplotlib.pyplot as plt\n",
    "\n",
    "# Search for indicator names by filter, referring to https://www.who.int/data/gho/info/gho-odata-api documentation\n",
    "ecig_response = requests.get(\"https://ghoapi.azureedge.net/api/Indicator?$filter=contains(IndicatorName,'e-cig')\").json()\n",
    "print('Datasets related to e-cigarettes:')\n",
    "print('-----------------------------------------------------')\n",
    "ecig_response\n",
    "# Then read through and find datasets related to e-cigarettes"
   ]
  },
  {
   "cell_type": "markdown",
   "id": "d246980d-79ab-4400-ab6a-99aeafab667c",
   "metadata": {},
   "source": [
    "## Adult current e-cigarette use"
   ]
  },
  {
   "cell_type": "code",
   "execution_count": 11,
   "id": "dcef136b-8335-40ad-96b4-083de82d8127",
   "metadata": {},
   "outputs": [
    {
     "name": "stdout",
     "output_type": "stream",
     "text": [
      "Prevalence of adult e-cigarette use\n",
      "Datasource: World Health Organisation\n",
      "(Data collected between 2013 and 2022)\n"
     ]
    },
    {
     "data": {
      "application/vnd.plotly.v1+json": {
       "config": {
        "plotlyServerURL": "https://plot.ly"
       },
       "data": [
        {
         "coloraxis": "coloraxis",
         "customdata": [
          [
           "BHS",
           "Americas",
           1.5
          ],
          [
           "IDN",
           "South-East Asia",
           3
          ],
          [
           "BGR",
           "Europe",
           1
          ],
          [
           "CZE",
           "Europe",
           7.4
          ],
          [
           "BRN",
           "Western Pacific",
           16.7
          ],
          [
           "KHM",
           "Western Pacific",
           0
          ],
          [
           "IND",
           "South-East Asia",
           0
          ],
          [
           "SLV",
           "Americas",
           1.2
          ],
          [
           "RUS",
           "Europe",
           3.6
          ],
          [
           "DNK",
           "Europe",
           5
          ],
          [
           "EST",
           "Europe",
           2
          ],
          [
           "CAN",
           "Americas",
           5
          ],
          [
           "NZL",
           "Western Pacific",
           8.2
          ],
          [
           "AUT",
           "Europe",
           3.4
          ],
          [
           "CRI",
           "Americas",
           1.3
          ],
          [
           "ISL",
           "Europe",
           6.4
          ],
          [
           "POL",
           "Europe",
           0.9
          ],
          [
           "COL",
           "Americas",
           0.7
          ],
          [
           "PHL",
           "Western Pacific",
           2.1
          ],
          [
           "LTU",
           "Europe",
           7.7
          ],
          [
           "SWE",
           "Europe",
           2
          ],
          [
           "LVA",
           "Europe",
           2
          ],
          [
           "ITA",
           "Europe",
           1.7
          ],
          [
           "AUS",
           "Western Pacific",
           2.5
          ],
          [
           "CHL",
           "Americas",
           1
          ],
          [
           "ZAF",
           "Africa",
           2.2
          ],
          [
           "UZB",
           "Europe",
           0.2
          ],
          [
           "MLT",
           "Europe",
           1
          ],
          [
           "USA",
           "Americas",
           3.7
          ],
          [
           "CHE",
           "Europe",
           3
          ],
          [
           "LUX",
           "Europe",
           9.4
          ],
          [
           "MYS",
           "Western Pacific",
           4.9
          ],
          [
           "UKR",
           "Europe",
           1.7
          ],
          [
           "FIN",
           "Europe",
           2
          ],
          [
           "SAU",
           "Eastern Mediterranean",
           0.8
          ],
          [
           "MHL",
           "Western Pacific",
           5.5
          ],
          [
           "SVK",
           "Europe",
           1
          ],
          [
           "IRL",
           "Europe",
           6
          ],
          [
           "QAT",
           "Eastern Mediterranean",
           0.2
          ],
          [
           "SRB",
           "Europe",
           1
          ],
          [
           "PAN",
           "Americas",
           0.4
          ],
          [
           "GBR",
           "Europe",
           7.7
          ],
          [
           "KOR",
           "Western Pacific",
           2.5
          ],
          [
           "GEO",
           "Europe",
           0.3
          ],
          [
           "HRV",
           "Europe",
           1.1
          ],
          [
           "ECU",
           "Americas",
           2.2
          ],
          [
           "NLD",
           "Europe",
           1
          ],
          [
           "ESP",
           "Europe",
           0.9
          ],
          [
           "DEU",
           "Europe",
           3.9
          ],
          [
           "ARE",
           "Eastern Mediterranean",
           0.6
          ],
          [
           "MEX",
           "Americas",
           1.6
          ],
          [
           "KAZ",
           "Europe",
           1.3
          ],
          [
           "THA",
           "South-East Asia",
           0.1
          ],
          [
           "URY",
           "Americas",
           0.2
          ],
          [
           "SVN",
           "Europe",
           1.3
          ],
          [
           "CHN",
           "Western Pacific",
           0.9
          ],
          [
           "ARG",
           "Americas",
           1.1
          ],
          [
           "BLR",
           "Europe",
           6.1
          ],
          [
           "NPL",
           "South-East Asia",
           1.6
          ],
          [
           "BOL",
           "Americas",
           0.7
          ],
          [
           "BEL",
           "Europe",
           10
          ],
          [
           "LCA",
           "Americas",
           0.4
          ],
          [
           "FRA",
           "Europe",
           6.7
          ],
          [
           "MDA",
           "Europe",
           0.7
          ],
          [
           "GRC",
           "Europe",
           2.9
          ]
         ],
         "geo": "geo",
         "hovertemplate": "Country=%{customdata[0]}<br>Region=%{customdata[1]}<br>Prevalence (%)=%{z}<extra></extra>",
         "locations": [
          "BHS",
          "IDN",
          "BGR",
          "CZE",
          "BRN",
          "KHM",
          "IND",
          "SLV",
          "RUS",
          "DNK",
          "EST",
          "CAN",
          "NZL",
          "AUT",
          "CRI",
          "ISL",
          "POL",
          "COL",
          "PHL",
          "LTU",
          "SWE",
          "LVA",
          "ITA",
          "AUS",
          "CHL",
          "ZAF",
          "UZB",
          "MLT",
          "USA",
          "CHE",
          "LUX",
          "MYS",
          "UKR",
          "FIN",
          "SAU",
          "MHL",
          "SVK",
          "IRL",
          "QAT",
          "SRB",
          "PAN",
          "GBR",
          "KOR",
          "GEO",
          "HRV",
          "ECU",
          "NLD",
          "ESP",
          "DEU",
          "ARE",
          "MEX",
          "KAZ",
          "THA",
          "URY",
          "SVN",
          "CHN",
          "ARG",
          "BLR",
          "NPL",
          "BOL",
          "BEL",
          "LCA",
          "FRA",
          "MDA",
          "GRC"
         ],
         "name": "",
         "type": "choropleth",
         "z": [
          1.5,
          3,
          1,
          7.4,
          16.7,
          0,
          0,
          1.2,
          3.6,
          5,
          2,
          5,
          8.2,
          3.4,
          1.3,
          6.4,
          0.9,
          0.7,
          2.1,
          7.7,
          2,
          2,
          1.7,
          2.5,
          1,
          2.2,
          0.2,
          1,
          3.7,
          3,
          9.4,
          4.9,
          1.7,
          2,
          0.8,
          5.5,
          1,
          6,
          0.2,
          1,
          0.4,
          7.7,
          2.5,
          0.3,
          1.1,
          2.2,
          1,
          0.9,
          3.9,
          0.6,
          1.6,
          1.3,
          0.1,
          0.2,
          1.3,
          0.9,
          1.1,
          6.1,
          1.6,
          0.7,
          10,
          0.4,
          6.7,
          0.7,
          2.9
         ]
        }
       ],
       "layout": {
        "coloraxis": {
         "colorbar": {
          "title": {
           "text": "Prevalence (%)"
          }
         },
         "colorscale": [
          [
           0,
           "rgb(253, 237, 176)"
          ],
          [
           0.09090909090909091,
           "rgb(250, 205, 145)"
          ],
          [
           0.18181818181818182,
           "rgb(246, 173, 119)"
          ],
          [
           0.2727272727272727,
           "rgb(240, 142, 98)"
          ],
          [
           0.36363636363636365,
           "rgb(231, 109, 84)"
          ],
          [
           0.45454545454545453,
           "rgb(216, 80, 83)"
          ],
          [
           0.5454545454545454,
           "rgb(195, 56, 90)"
          ],
          [
           0.6363636363636364,
           "rgb(168, 40, 96)"
          ],
          [
           0.7272727272727273,
           "rgb(138, 29, 99)"
          ],
          [
           0.8181818181818182,
           "rgb(107, 24, 93)"
          ],
          [
           0.9090909090909091,
           "rgb(76, 21, 80)"
          ],
          [
           1,
           "rgb(47, 15, 61)"
          ]
         ]
        },
        "geo": {
         "center": {},
         "domain": {
          "x": [
           0,
           1
          ],
          "y": [
           0,
           1
          ]
         },
         "projection": {
          "type": "natural earth"
         }
        },
        "height": 600,
        "legend": {
         "tracegroupgap": 0
        },
        "margin": {
         "b": 0,
         "l": 0,
         "r": 0,
         "t": 0
        },
        "template": {
         "data": {
          "bar": [
           {
            "error_x": {
             "color": "#2a3f5f"
            },
            "error_y": {
             "color": "#2a3f5f"
            },
            "marker": {
             "line": {
              "color": "#E5ECF6",
              "width": 0.5
             },
             "pattern": {
              "fillmode": "overlay",
              "size": 10,
              "solidity": 0.2
             }
            },
            "type": "bar"
           }
          ],
          "barpolar": [
           {
            "marker": {
             "line": {
              "color": "#E5ECF6",
              "width": 0.5
             },
             "pattern": {
              "fillmode": "overlay",
              "size": 10,
              "solidity": 0.2
             }
            },
            "type": "barpolar"
           }
          ],
          "carpet": [
           {
            "aaxis": {
             "endlinecolor": "#2a3f5f",
             "gridcolor": "white",
             "linecolor": "white",
             "minorgridcolor": "white",
             "startlinecolor": "#2a3f5f"
            },
            "baxis": {
             "endlinecolor": "#2a3f5f",
             "gridcolor": "white",
             "linecolor": "white",
             "minorgridcolor": "white",
             "startlinecolor": "#2a3f5f"
            },
            "type": "carpet"
           }
          ],
          "choropleth": [
           {
            "colorbar": {
             "outlinewidth": 0,
             "ticks": ""
            },
            "type": "choropleth"
           }
          ],
          "contour": [
           {
            "colorbar": {
             "outlinewidth": 0,
             "ticks": ""
            },
            "colorscale": [
             [
              0,
              "#0d0887"
             ],
             [
              0.1111111111111111,
              "#46039f"
             ],
             [
              0.2222222222222222,
              "#7201a8"
             ],
             [
              0.3333333333333333,
              "#9c179e"
             ],
             [
              0.4444444444444444,
              "#bd3786"
             ],
             [
              0.5555555555555556,
              "#d8576b"
             ],
             [
              0.6666666666666666,
              "#ed7953"
             ],
             [
              0.7777777777777778,
              "#fb9f3a"
             ],
             [
              0.8888888888888888,
              "#fdca26"
             ],
             [
              1,
              "#f0f921"
             ]
            ],
            "type": "contour"
           }
          ],
          "contourcarpet": [
           {
            "colorbar": {
             "outlinewidth": 0,
             "ticks": ""
            },
            "type": "contourcarpet"
           }
          ],
          "heatmap": [
           {
            "colorbar": {
             "outlinewidth": 0,
             "ticks": ""
            },
            "colorscale": [
             [
              0,
              "#0d0887"
             ],
             [
              0.1111111111111111,
              "#46039f"
             ],
             [
              0.2222222222222222,
              "#7201a8"
             ],
             [
              0.3333333333333333,
              "#9c179e"
             ],
             [
              0.4444444444444444,
              "#bd3786"
             ],
             [
              0.5555555555555556,
              "#d8576b"
             ],
             [
              0.6666666666666666,
              "#ed7953"
             ],
             [
              0.7777777777777778,
              "#fb9f3a"
             ],
             [
              0.8888888888888888,
              "#fdca26"
             ],
             [
              1,
              "#f0f921"
             ]
            ],
            "type": "heatmap"
           }
          ],
          "heatmapgl": [
           {
            "colorbar": {
             "outlinewidth": 0,
             "ticks": ""
            },
            "colorscale": [
             [
              0,
              "#0d0887"
             ],
             [
              0.1111111111111111,
              "#46039f"
             ],
             [
              0.2222222222222222,
              "#7201a8"
             ],
             [
              0.3333333333333333,
              "#9c179e"
             ],
             [
              0.4444444444444444,
              "#bd3786"
             ],
             [
              0.5555555555555556,
              "#d8576b"
             ],
             [
              0.6666666666666666,
              "#ed7953"
             ],
             [
              0.7777777777777778,
              "#fb9f3a"
             ],
             [
              0.8888888888888888,
              "#fdca26"
             ],
             [
              1,
              "#f0f921"
             ]
            ],
            "type": "heatmapgl"
           }
          ],
          "histogram": [
           {
            "marker": {
             "pattern": {
              "fillmode": "overlay",
              "size": 10,
              "solidity": 0.2
             }
            },
            "type": "histogram"
           }
          ],
          "histogram2d": [
           {
            "colorbar": {
             "outlinewidth": 0,
             "ticks": ""
            },
            "colorscale": [
             [
              0,
              "#0d0887"
             ],
             [
              0.1111111111111111,
              "#46039f"
             ],
             [
              0.2222222222222222,
              "#7201a8"
             ],
             [
              0.3333333333333333,
              "#9c179e"
             ],
             [
              0.4444444444444444,
              "#bd3786"
             ],
             [
              0.5555555555555556,
              "#d8576b"
             ],
             [
              0.6666666666666666,
              "#ed7953"
             ],
             [
              0.7777777777777778,
              "#fb9f3a"
             ],
             [
              0.8888888888888888,
              "#fdca26"
             ],
             [
              1,
              "#f0f921"
             ]
            ],
            "type": "histogram2d"
           }
          ],
          "histogram2dcontour": [
           {
            "colorbar": {
             "outlinewidth": 0,
             "ticks": ""
            },
            "colorscale": [
             [
              0,
              "#0d0887"
             ],
             [
              0.1111111111111111,
              "#46039f"
             ],
             [
              0.2222222222222222,
              "#7201a8"
             ],
             [
              0.3333333333333333,
              "#9c179e"
             ],
             [
              0.4444444444444444,
              "#bd3786"
             ],
             [
              0.5555555555555556,
              "#d8576b"
             ],
             [
              0.6666666666666666,
              "#ed7953"
             ],
             [
              0.7777777777777778,
              "#fb9f3a"
             ],
             [
              0.8888888888888888,
              "#fdca26"
             ],
             [
              1,
              "#f0f921"
             ]
            ],
            "type": "histogram2dcontour"
           }
          ],
          "mesh3d": [
           {
            "colorbar": {
             "outlinewidth": 0,
             "ticks": ""
            },
            "type": "mesh3d"
           }
          ],
          "parcoords": [
           {
            "line": {
             "colorbar": {
              "outlinewidth": 0,
              "ticks": ""
             }
            },
            "type": "parcoords"
           }
          ],
          "pie": [
           {
            "automargin": true,
            "type": "pie"
           }
          ],
          "scatter": [
           {
            "fillpattern": {
             "fillmode": "overlay",
             "size": 10,
             "solidity": 0.2
            },
            "type": "scatter"
           }
          ],
          "scatter3d": [
           {
            "line": {
             "colorbar": {
              "outlinewidth": 0,
              "ticks": ""
             }
            },
            "marker": {
             "colorbar": {
              "outlinewidth": 0,
              "ticks": ""
             }
            },
            "type": "scatter3d"
           }
          ],
          "scattercarpet": [
           {
            "marker": {
             "colorbar": {
              "outlinewidth": 0,
              "ticks": ""
             }
            },
            "type": "scattercarpet"
           }
          ],
          "scattergeo": [
           {
            "marker": {
             "colorbar": {
              "outlinewidth": 0,
              "ticks": ""
             }
            },
            "type": "scattergeo"
           }
          ],
          "scattergl": [
           {
            "marker": {
             "colorbar": {
              "outlinewidth": 0,
              "ticks": ""
             }
            },
            "type": "scattergl"
           }
          ],
          "scattermapbox": [
           {
            "marker": {
             "colorbar": {
              "outlinewidth": 0,
              "ticks": ""
             }
            },
            "type": "scattermapbox"
           }
          ],
          "scatterpolar": [
           {
            "marker": {
             "colorbar": {
              "outlinewidth": 0,
              "ticks": ""
             }
            },
            "type": "scatterpolar"
           }
          ],
          "scatterpolargl": [
           {
            "marker": {
             "colorbar": {
              "outlinewidth": 0,
              "ticks": ""
             }
            },
            "type": "scatterpolargl"
           }
          ],
          "scatterternary": [
           {
            "marker": {
             "colorbar": {
              "outlinewidth": 0,
              "ticks": ""
             }
            },
            "type": "scatterternary"
           }
          ],
          "surface": [
           {
            "colorbar": {
             "outlinewidth": 0,
             "ticks": ""
            },
            "colorscale": [
             [
              0,
              "#0d0887"
             ],
             [
              0.1111111111111111,
              "#46039f"
             ],
             [
              0.2222222222222222,
              "#7201a8"
             ],
             [
              0.3333333333333333,
              "#9c179e"
             ],
             [
              0.4444444444444444,
              "#bd3786"
             ],
             [
              0.5555555555555556,
              "#d8576b"
             ],
             [
              0.6666666666666666,
              "#ed7953"
             ],
             [
              0.7777777777777778,
              "#fb9f3a"
             ],
             [
              0.8888888888888888,
              "#fdca26"
             ],
             [
              1,
              "#f0f921"
             ]
            ],
            "type": "surface"
           }
          ],
          "table": [
           {
            "cells": {
             "fill": {
              "color": "#EBF0F8"
             },
             "line": {
              "color": "white"
             }
            },
            "header": {
             "fill": {
              "color": "#C8D4E3"
             },
             "line": {
              "color": "white"
             }
            },
            "type": "table"
           }
          ]
         },
         "layout": {
          "annotationdefaults": {
           "arrowcolor": "#2a3f5f",
           "arrowhead": 0,
           "arrowwidth": 1
          },
          "autotypenumbers": "strict",
          "coloraxis": {
           "colorbar": {
            "outlinewidth": 0,
            "ticks": ""
           }
          },
          "colorscale": {
           "diverging": [
            [
             0,
             "#8e0152"
            ],
            [
             0.1,
             "#c51b7d"
            ],
            [
             0.2,
             "#de77ae"
            ],
            [
             0.3,
             "#f1b6da"
            ],
            [
             0.4,
             "#fde0ef"
            ],
            [
             0.5,
             "#f7f7f7"
            ],
            [
             0.6,
             "#e6f5d0"
            ],
            [
             0.7,
             "#b8e186"
            ],
            [
             0.8,
             "#7fbc41"
            ],
            [
             0.9,
             "#4d9221"
            ],
            [
             1,
             "#276419"
            ]
           ],
           "sequential": [
            [
             0,
             "#0d0887"
            ],
            [
             0.1111111111111111,
             "#46039f"
            ],
            [
             0.2222222222222222,
             "#7201a8"
            ],
            [
             0.3333333333333333,
             "#9c179e"
            ],
            [
             0.4444444444444444,
             "#bd3786"
            ],
            [
             0.5555555555555556,
             "#d8576b"
            ],
            [
             0.6666666666666666,
             "#ed7953"
            ],
            [
             0.7777777777777778,
             "#fb9f3a"
            ],
            [
             0.8888888888888888,
             "#fdca26"
            ],
            [
             1,
             "#f0f921"
            ]
           ],
           "sequentialminus": [
            [
             0,
             "#0d0887"
            ],
            [
             0.1111111111111111,
             "#46039f"
            ],
            [
             0.2222222222222222,
             "#7201a8"
            ],
            [
             0.3333333333333333,
             "#9c179e"
            ],
            [
             0.4444444444444444,
             "#bd3786"
            ],
            [
             0.5555555555555556,
             "#d8576b"
            ],
            [
             0.6666666666666666,
             "#ed7953"
            ],
            [
             0.7777777777777778,
             "#fb9f3a"
            ],
            [
             0.8888888888888888,
             "#fdca26"
            ],
            [
             1,
             "#f0f921"
            ]
           ]
          },
          "colorway": [
           "#636efa",
           "#EF553B",
           "#00cc96",
           "#ab63fa",
           "#FFA15A",
           "#19d3f3",
           "#FF6692",
           "#B6E880",
           "#FF97FF",
           "#FECB52"
          ],
          "font": {
           "color": "#2a3f5f"
          },
          "geo": {
           "bgcolor": "white",
           "lakecolor": "white",
           "landcolor": "#E5ECF6",
           "showlakes": true,
           "showland": true,
           "subunitcolor": "white"
          },
          "hoverlabel": {
           "align": "left"
          },
          "hovermode": "closest",
          "mapbox": {
           "style": "light"
          },
          "paper_bgcolor": "white",
          "plot_bgcolor": "#E5ECF6",
          "polar": {
           "angularaxis": {
            "gridcolor": "white",
            "linecolor": "white",
            "ticks": ""
           },
           "bgcolor": "#E5ECF6",
           "radialaxis": {
            "gridcolor": "white",
            "linecolor": "white",
            "ticks": ""
           }
          },
          "scene": {
           "xaxis": {
            "backgroundcolor": "#E5ECF6",
            "gridcolor": "white",
            "gridwidth": 2,
            "linecolor": "white",
            "showbackground": true,
            "ticks": "",
            "zerolinecolor": "white"
           },
           "yaxis": {
            "backgroundcolor": "#E5ECF6",
            "gridcolor": "white",
            "gridwidth": 2,
            "linecolor": "white",
            "showbackground": true,
            "ticks": "",
            "zerolinecolor": "white"
           },
           "zaxis": {
            "backgroundcolor": "#E5ECF6",
            "gridcolor": "white",
            "gridwidth": 2,
            "linecolor": "white",
            "showbackground": true,
            "ticks": "",
            "zerolinecolor": "white"
           }
          },
          "shapedefaults": {
           "line": {
            "color": "#2a3f5f"
           }
          },
          "ternary": {
           "aaxis": {
            "gridcolor": "white",
            "linecolor": "white",
            "ticks": ""
           },
           "baxis": {
            "gridcolor": "white",
            "linecolor": "white",
            "ticks": ""
           },
           "bgcolor": "#E5ECF6",
           "caxis": {
            "gridcolor": "white",
            "linecolor": "white",
            "ticks": ""
           }
          },
          "title": {
           "x": 0.05
          },
          "xaxis": {
           "automargin": true,
           "gridcolor": "white",
           "linecolor": "white",
           "ticks": "",
           "title": {
            "standoff": 15
           },
           "zerolinecolor": "white",
           "zerolinewidth": 2
          },
          "yaxis": {
           "automargin": true,
           "gridcolor": "white",
           "linecolor": "white",
           "ticks": "",
           "title": {
            "standoff": 15
           },
           "zerolinecolor": "white",
           "zerolinewidth": 2
          }
         }
        },
        "width": 1200
       }
      },
      "image/png": "[encoded data removed]",
      "text/html": [
       "<div>                            <div id=\"c9dde02d-0a2c-4b5e-bd25-6d62d5ad814f\" class=\"plotly-graph-div\" style=\"height:600px; width:1200px;\"></div>            <script type=\"text/javascript\">                require([\"plotly\"], function(Plotly) {                    window.PLOTLYENV=window.PLOTLYENV || {};                                    if (document.getElementById(\"c9dde02d-0a2c-4b5e-bd25-6d62d5ad814f\")) {                    Plotly.newPlot(                        \"c9dde02d-0a2c-4b5e-bd25-6d62d5ad814f\",                        [{\"coloraxis\":\"coloraxis\",\"customdata\":[[\"BHS\",\"Americas\",1.5],[\"IDN\",\"South-East Asia\",3.0],[\"BGR\",\"Europe\",1.0],[\"CZE\",\"Europe\",7.4],[\"BRN\",\"Western Pacific\",16.7],[\"KHM\",\"Western Pacific\",0.0],[\"IND\",\"South-East Asia\",0.0],[\"SLV\",\"Americas\",1.2],[\"RUS\",\"Europe\",3.6],[\"DNK\",\"Europe\",5.0],[\"EST\",\"Europe\",2.0],[\"CAN\",\"Americas\",5.0],[\"NZL\",\"Western Pacific\",8.2],[\"AUT\",\"Europe\",3.4],[\"CRI\",\"Americas\",1.3],[\"ISL\",\"Europe\",6.4],[\"POL\",\"Europe\",0.9],[\"COL\",\"Americas\",0.7],[\"PHL\",\"Western Pacific\",2.1],[\"LTU\",\"Europe\",7.7],[\"SWE\",\"Europe\",2.0],[\"LVA\",\"Europe\",2.0],[\"ITA\",\"Europe\",1.7],[\"AUS\",\"Western Pacific\",2.5],[\"CHL\",\"Americas\",1.0],[\"ZAF\",\"Africa\",2.2],[\"UZB\",\"Europe\",0.2],[\"MLT\",\"Europe\",1.0],[\"USA\",\"Americas\",3.7],[\"CHE\",\"Europe\",3.0],[\"LUX\",\"Europe\",9.4],[\"MYS\",\"Western Pacific\",4.9],[\"UKR\",\"Europe\",1.7],[\"FIN\",\"Europe\",2.0],[\"SAU\",\"Eastern Mediterranean\",0.8],[\"MHL\",\"Western Pacific\",5.5],[\"SVK\",\"Europe\",1.0],[\"IRL\",\"Europe\",6.0],[\"QAT\",\"Eastern Mediterranean\",0.2],[\"SRB\",\"Europe\",1.0],[\"PAN\",\"Americas\",0.4],[\"GBR\",\"Europe\",7.7],[\"KOR\",\"Western Pacific\",2.5],[\"GEO\",\"Europe\",0.3],[\"HRV\",\"Europe\",1.1],[\"ECU\",\"Americas\",2.2],[\"NLD\",\"Europe\",1.0],[\"ESP\",\"Europe\",0.9],[\"DEU\",\"Europe\",3.9],[\"ARE\",\"Eastern Mediterranean\",0.6],[\"MEX\",\"Americas\",1.6],[\"KAZ\",\"Europe\",1.3],[\"THA\",\"South-East Asia\",0.1],[\"URY\",\"Americas\",0.2],[\"SVN\",\"Europe\",1.3],[\"CHN\",\"Western Pacific\",0.9],[\"ARG\",\"Americas\",1.1],[\"BLR\",\"Europe\",6.1],[\"NPL\",\"South-East Asia\",1.6],[\"BOL\",\"Americas\",0.7],[\"BEL\",\"Europe\",10.0],[\"LCA\",\"Americas\",0.4],[\"FRA\",\"Europe\",6.7],[\"MDA\",\"Europe\",0.7],[\"GRC\",\"Europe\",2.9]],\"geo\":\"geo\",\"hovertemplate\":\"Country=%{customdata[0]}<br>Region=%{customdata[1]}<br>Prevalence (%)=%{z}<extra></extra>\",\"locations\":[\"BHS\",\"IDN\",\"BGR\",\"CZE\",\"BRN\",\"KHM\",\"IND\",\"SLV\",\"RUS\",\"DNK\",\"EST\",\"CAN\",\"NZL\",\"AUT\",\"CRI\",\"ISL\",\"POL\",\"COL\",\"PHL\",\"LTU\",\"SWE\",\"LVA\",\"ITA\",\"AUS\",\"CHL\",\"ZAF\",\"UZB\",\"MLT\",\"USA\",\"CHE\",\"LUX\",\"MYS\",\"UKR\",\"FIN\",\"SAU\",\"MHL\",\"SVK\",\"IRL\",\"QAT\",\"SRB\",\"PAN\",\"GBR\",\"KOR\",\"GEO\",\"HRV\",\"ECU\",\"NLD\",\"ESP\",\"DEU\",\"ARE\",\"MEX\",\"KAZ\",\"THA\",\"URY\",\"SVN\",\"CHN\",\"ARG\",\"BLR\",\"NPL\",\"BOL\",\"BEL\",\"LCA\",\"FRA\",\"MDA\",\"GRC\"],\"name\":\"\",\"z\":[1.5,3.0,1.0,7.4,16.7,0.0,0.0,1.2,3.6,5.0,2.0,5.0,8.2,3.4,1.3,6.4,0.9,0.7,2.1,7.7,2.0,2.0,1.7,2.5,1.0,2.2,0.2,1.0,3.7,3.0,9.4,4.9,1.7,2.0,0.8,5.5,1.0,6.0,0.2,1.0,0.4,7.7,2.5,0.3,1.1,2.2,1.0,0.9,3.9,0.6,1.6,1.3,0.1,0.2,1.3,0.9,1.1,6.1,1.6,0.7,10.0,0.4,6.7,0.7,2.9],\"type\":\"choropleth\"}],                        {\"template\":{\"data\":{\"histogram2dcontour\":[{\"type\":\"histogram2dcontour\",\"colorbar\":{\"outlinewidth\":0,\"ticks\":\"\"},\"colorscale\":[[0.0,\"#0d0887\"],[0.1111111111111111,\"#46039f\"],[0.2222222222222222,\"#7201a8\"],[0.3333333333333333,\"#9c179e\"],[0.4444444444444444,\"#bd3786\"],[0.5555555555555556,\"#d8576b\"],[0.6666666666666666,\"#ed7953\"],[0.7777777777777778,\"#fb9f3a\"],[0.8888888888888888,\"#fdca26\"],[1.0,\"#f0f921\"]]}],\"choropleth\":[{\"type\":\"choropleth\",\"colorbar\":{\"outlinewidth\":0,\"ticks\":\"\"}}],\"histogram2d\":[{\"type\":\"histogram2d\",\"colorbar\":{\"outlinewidth\":0,\"ticks\":\"\"},\"colorscale\":[[0.0,\"#0d0887\"],[0.1111111111111111,\"#46039f\"],[0.2222222222222222,\"#7201a8\"],[0.3333333333333333,\"#9c179e\"],[0.4444444444444444,\"#bd3786\"],[0.5555555555555556,\"#d8576b\"],[0.6666666666666666,\"#ed7953\"],[0.7777777777777778,\"#fb9f3a\"],[0.8888888888888888,\"#fdca26\"],[1.0,\"#f0f921\"]]}],\"heatmap\":[{\"type\":\"heatmap\",\"colorbar\":{\"outlinewidth\":0,\"ticks\":\"\"},\"colorscale\":[[0.0,\"#0d0887\"],[0.1111111111111111,\"#46039f\"],[0.2222222222222222,\"#7201a8\"],[0.3333333333333333,\"#9c179e\"],[0.4444444444444444,\"#bd3786\"],[0.5555555555555556,\"#d8576b\"],[0.6666666666666666,\"#ed7953\"],[0.7777777777777778,\"#fb9f3a\"],[0.8888888888888888,\"#fdca26\"],[1.0,\"#f0f921\"]]}],\"heatmapgl\":[{\"type\":\"heatmapgl\",\"colorbar\":{\"outlinewidth\":0,\"ticks\":\"\"},\"colorscale\":[[0.0,\"#0d0887\"],[0.1111111111111111,\"#46039f\"],[0.2222222222222222,\"#7201a8\"],[0.3333333333333333,\"#9c179e\"],[0.4444444444444444,\"#bd3786\"],[0.5555555555555556,\"#d8576b\"],[0.6666666666666666,\"#ed7953\"],[0.7777777777777778,\"#fb9f3a\"],[0.8888888888888888,\"#fdca26\"],[1.0,\"#f0f921\"]]}],\"contourcarpet\":[{\"type\":\"contourcarpet\",\"colorbar\":{\"outlinewidth\":0,\"ticks\":\"\"}}],\"contour\":[{\"type\":\"contour\",\"colorbar\":{\"outlinewidth\":0,\"ticks\":\"\"},\"colorscale\":[[0.0,\"#0d0887\"],[0.1111111111111111,\"#46039f\"],[0.2222222222222222,\"#7201a8\"],[0.3333333333333333,\"#9c179e\"],[0.4444444444444444,\"#bd3786\"],[0.5555555555555556,\"#d8576b\"],[0.6666666666666666,\"#ed7953\"],[0.7777777777777778,\"#fb9f3a\"],[0.8888888888888888,\"#fdca26\"],[1.0,\"#f0f921\"]]}],\"surface\":[{\"type\":\"surface\",\"colorbar\":{\"outlinewidth\":0,\"ticks\":\"\"},\"colorscale\":[[0.0,\"#0d0887\"],[0.1111111111111111,\"#46039f\"],[0.2222222222222222,\"#7201a8\"],[0.3333333333333333,\"#9c179e\"],[0.4444444444444444,\"#bd3786\"],[0.5555555555555556,\"#d8576b\"],[0.6666666666666666,\"#ed7953\"],[0.7777777777777778,\"#fb9f3a\"],[0.8888888888888888,\"#fdca26\"],[1.0,\"#f0f921\"]]}],\"mesh3d\":[{\"type\":\"mesh3d\",\"colorbar\":{\"outlinewidth\":0,\"ticks\":\"\"}}],\"scatter\":[{\"fillpattern\":{\"fillmode\":\"overlay\",\"size\":10,\"solidity\":0.2},\"type\":\"scatter\"}],\"parcoords\":[{\"type\":\"parcoords\",\"line\":{\"colorbar\":{\"outlinewidth\":0,\"ticks\":\"\"}}}],\"scatterpolargl\":[{\"type\":\"scatterpolargl\",\"marker\":{\"colorbar\":{\"outlinewidth\":0,\"ticks\":\"\"}}}],\"bar\":[{\"error_x\":{\"color\":\"#2a3f5f\"},\"error_y\":{\"color\":\"#2a3f5f\"},\"marker\":{\"line\":{\"color\":\"#E5ECF6\",\"width\":0.5},\"pattern\":{\"fillmode\":\"overlay\",\"size\":10,\"solidity\":0.2}},\"type\":\"bar\"}],\"scattergeo\":[{\"type\":\"scattergeo\",\"marker\":{\"colorbar\":{\"outlinewidth\":0,\"ticks\":\"\"}}}],\"scatterpolar\":[{\"type\":\"scatterpolar\",\"marker\":{\"colorbar\":{\"outlinewidth\":0,\"ticks\":\"\"}}}],\"histogram\":[{\"marker\":{\"pattern\":{\"fillmode\":\"overlay\",\"size\":10,\"solidity\":0.2}},\"type\":\"histogram\"}],\"scattergl\":[{\"type\":\"scattergl\",\"marker\":{\"colorbar\":{\"outlinewidth\":0,\"ticks\":\"\"}}}],\"scatter3d\":[{\"type\":\"scatter3d\",\"line\":{\"colorbar\":{\"outlinewidth\":0,\"ticks\":\"\"}},\"marker\":{\"colorbar\":{\"outlinewidth\":0,\"ticks\":\"\"}}}],\"scattermapbox\":[{\"type\":\"scattermapbox\",\"marker\":{\"colorbar\":{\"outlinewidth\":0,\"ticks\":\"\"}}}],\"scatterternary\":[{\"type\":\"scatterternary\",\"marker\":{\"colorbar\":{\"outlinewidth\":0,\"ticks\":\"\"}}}],\"scattercarpet\":[{\"type\":\"scattercarpet\",\"marker\":{\"colorbar\":{\"outlinewidth\":0,\"ticks\":\"\"}}}],\"carpet\":[{\"aaxis\":{\"endlinecolor\":\"#2a3f5f\",\"gridcolor\":\"white\",\"linecolor\":\"white\",\"minorgridcolor\":\"white\",\"startlinecolor\":\"#2a3f5f\"},\"baxis\":{\"endlinecolor\":\"#2a3f5f\",\"gridcolor\":\"white\",\"linecolor\":\"white\",\"minorgridcolor\":\"white\",\"startlinecolor\":\"#2a3f5f\"},\"type\":\"carpet\"}],\"table\":[{\"cells\":{\"fill\":{\"color\":\"#EBF0F8\"},\"line\":{\"color\":\"white\"}},\"header\":{\"fill\":{\"color\":\"#C8D4E3\"},\"line\":{\"color\":\"white\"}},\"type\":\"table\"}],\"barpolar\":[{\"marker\":{\"line\":{\"color\":\"#E5ECF6\",\"width\":0.5},\"pattern\":{\"fillmode\":\"overlay\",\"size\":10,\"solidity\":0.2}},\"type\":\"barpolar\"}],\"pie\":[{\"automargin\":true,\"type\":\"pie\"}]},\"layout\":{\"autotypenumbers\":\"strict\",\"colorway\":[\"#636efa\",\"#EF553B\",\"#00cc96\",\"#ab63fa\",\"#FFA15A\",\"#19d3f3\",\"#FF6692\",\"#B6E880\",\"#FF97FF\",\"#FECB52\"],\"font\":{\"color\":\"#2a3f5f\"},\"hovermode\":\"closest\",\"hoverlabel\":{\"align\":\"left\"},\"paper_bgcolor\":\"white\",\"plot_bgcolor\":\"#E5ECF6\",\"polar\":{\"bgcolor\":\"#E5ECF6\",\"angularaxis\":{\"gridcolor\":\"white\",\"linecolor\":\"white\",\"ticks\":\"\"},\"radialaxis\":{\"gridcolor\":\"white\",\"linecolor\":\"white\",\"ticks\":\"\"}},\"ternary\":{\"bgcolor\":\"#E5ECF6\",\"aaxis\":{\"gridcolor\":\"white\",\"linecolor\":\"white\",\"ticks\":\"\"},\"baxis\":{\"gridcolor\":\"white\",\"linecolor\":\"white\",\"ticks\":\"\"},\"caxis\":{\"gridcolor\":\"white\",\"linecolor\":\"white\",\"ticks\":\"\"}},\"coloraxis\":{\"colorbar\":{\"outlinewidth\":0,\"ticks\":\"\"}},\"colorscale\":{\"sequential\":[[0.0,\"#0d0887\"],[0.1111111111111111,\"#46039f\"],[0.2222222222222222,\"#7201a8\"],[0.3333333333333333,\"#9c179e\"],[0.4444444444444444,\"#bd3786\"],[0.5555555555555556,\"#d8576b\"],[0.6666666666666666,\"#ed7953\"],[0.7777777777777778,\"#fb9f3a\"],[0.8888888888888888,\"#fdca26\"],[1.0,\"#f0f921\"]],\"sequentialminus\":[[0.0,\"#0d0887\"],[0.1111111111111111,\"#46039f\"],[0.2222222222222222,\"#7201a8\"],[0.3333333333333333,\"#9c179e\"],[0.4444444444444444,\"#bd3786\"],[0.5555555555555556,\"#d8576b\"],[0.6666666666666666,\"#ed7953\"],[0.7777777777777778,\"#fb9f3a\"],[0.8888888888888888,\"#fdca26\"],[1.0,\"#f0f921\"]],\"diverging\":[[0,\"#8e0152\"],[0.1,\"#c51b7d\"],[0.2,\"#de77ae\"],[0.3,\"#f1b6da\"],[0.4,\"#fde0ef\"],[0.5,\"#f7f7f7\"],[0.6,\"#e6f5d0\"],[0.7,\"#b8e186\"],[0.8,\"#7fbc41\"],[0.9,\"#4d9221\"],[1,\"#276419\"]]},\"xaxis\":{\"gridcolor\":\"white\",\"linecolor\":\"white\",\"ticks\":\"\",\"title\":{\"standoff\":15},\"zerolinecolor\":\"white\",\"automargin\":true,\"zerolinewidth\":2},\"yaxis\":{\"gridcolor\":\"white\",\"linecolor\":\"white\",\"ticks\":\"\",\"title\":{\"standoff\":15},\"zerolinecolor\":\"white\",\"automargin\":true,\"zerolinewidth\":2},\"scene\":{\"xaxis\":{\"backgroundcolor\":\"#E5ECF6\",\"gridcolor\":\"white\",\"linecolor\":\"white\",\"showbackground\":true,\"ticks\":\"\",\"zerolinecolor\":\"white\",\"gridwidth\":2},\"yaxis\":{\"backgroundcolor\":\"#E5ECF6\",\"gridcolor\":\"white\",\"linecolor\":\"white\",\"showbackground\":true,\"ticks\":\"\",\"zerolinecolor\":\"white\",\"gridwidth\":2},\"zaxis\":{\"backgroundcolor\":\"#E5ECF6\",\"gridcolor\":\"white\",\"linecolor\":\"white\",\"showbackground\":true,\"ticks\":\"\",\"zerolinecolor\":\"white\",\"gridwidth\":2}},\"shapedefaults\":{\"line\":{\"color\":\"#2a3f5f\"}},\"annotationdefaults\":{\"arrowcolor\":\"#2a3f5f\",\"arrowhead\":0,\"arrowwidth\":1},\"geo\":{\"bgcolor\":\"white\",\"landcolor\":\"#E5ECF6\",\"subunitcolor\":\"white\",\"showland\":true,\"showlakes\":true,\"lakecolor\":\"white\"},\"title\":{\"x\":0.05},\"mapbox\":{\"style\":\"light\"}}},\"geo\":{\"domain\":{\"x\":[0.0,1.0],\"y\":[0.0,1.0]},\"projection\":{\"type\":\"natural earth\"},\"center\":{}},\"coloraxis\":{\"colorbar\":{\"title\":{\"text\":\"Prevalence (%)\"}},\"colorscale\":[[0.0,\"rgb(253, 237, 176)\"],[0.09090909090909091,\"rgb(250, 205, 145)\"],[0.18181818181818182,\"rgb(246, 173, 119)\"],[0.2727272727272727,\"rgb(240, 142, 98)\"],[0.36363636363636365,\"rgb(231, 109, 84)\"],[0.45454545454545453,\"rgb(216, 80, 83)\"],[0.5454545454545454,\"rgb(195, 56, 90)\"],[0.6363636363636364,\"rgb(168, 40, 96)\"],[0.7272727272727273,\"rgb(138, 29, 99)\"],[0.8181818181818182,\"rgb(107, 24, 93)\"],[0.9090909090909091,\"rgb(76, 21, 80)\"],[1.0,\"rgb(47, 15, 61)\"]]},\"legend\":{\"tracegroupgap\":0},\"margin\":{\"t\":0,\"l\":0,\"r\":0,\"b\":0},\"width\":1200,\"height\":600},                        {\"responsive\": true}                    ).then(function(){\n",
       "                            \n",
       "var gd = document.getElementById('c9dde02d-0a2c-4b5e-bd25-6d62d5ad814f');\n",
       "var x = new MutationObserver(function (mutations, observer) {{\n",
       "        var display = window.getComputedStyle(gd).display;\n",
       "        if (!display || display === 'none') {{\n",
       "            console.log([gd, 'removed!']);\n",
       "            Plotly.purge(gd);\n",
       "            observer.disconnect();\n",
       "        }}\n",
       "}});\n",
       "\n",
       "// Listen for the removal of the full notebook cells\n",
       "var notebookContainer = gd.closest('#notebook-container');\n",
       "if (notebookContainer) {{\n",
       "    x.observe(notebookContainer, {childList: true});\n",
       "}}\n",
       "\n",
       "// Listen for the clearing of the current output cell\n",
       "var outputEl = gd.closest('.output');\n",
       "if (outputEl) {{\n",
       "    x.observe(outputEl, {childList: true});\n",
       "}}\n",
       "\n",
       "                        })                };                });            </script>        </div>"
      ]
     },
     "metadata": {},
     "output_type": "display_data"
    }
   ],
   "source": [
    "# https://www.who.int/data/gho/info/gho-odata-api\n",
    "base_url = 'https://ghoapi.azureedge.net/api/'\n",
    "indicator_name = 'Adult_curr_e-cig'\n",
    "\n",
    "response1 = requests.get(base_url + indicator_name)\n",
    "\n",
    "# Get data in json format\n",
    "adult_curr_ecig = response1.json()\n",
    "\n",
    "# Search for keys (visual inspection showed dictionary datatype)\n",
    "adult_curr_ecig.keys()\n",
    "\n",
    "# Get all data in 'value' key\n",
    "adult_curr_ecig_data = adult_curr_ecig['value']\n",
    "\n",
    "# Turn data into dataframe\n",
    "# Show all columns\n",
    "# https://saturncloud.io/blog/python-spyder-display-all-columns-of-a-pandas-dataframe-in-describe/#:~:text=To%20display%20all%20columns%2C%20you,there%20are%20in%20the%20DataFrame.&text=Now%2C%20when%20you%20use%20the,all%20columns%20will%20be%20displayed.\n",
    "pd.set_option('display.max_columns', None)\n",
    "\n",
    "adult_curr_ecig_df = pd.DataFrame(adult_curr_ecig_data)\n",
    "\n",
    "# Remove NaN values in NumericValue column - want to filter out any rows that have no e-cigarette use recorded\n",
    "adult_curr_ecig_df_clean = adult_curr_ecig_df[adult_curr_ecig_df['NumericValue'].notna()]\n",
    "\n",
    "# sort values then select specific columns and rename them\n",
    "adult_curr_ecig_df_clean.sort_values(['SpatialDim', 'Dim1', 'TimeDim']).head(10)\n",
    "adult_curr_ecig_df_clean2 = adult_curr_ecig_df_clean[['IndicatorCode','SpatialDim','ParentLocation','Dim1','TimeDim','NumericValue']]\n",
    "adult_curr_ecig_df_rename = adult_curr_ecig_df_clean2.rename(columns={'SpatialDim':'Country',\n",
    "                                                                      'ParentLocation' : 'Region',\n",
    "                                                                      'Dim1': 'Sex',\n",
    "                                                                      'TimeDim':'Year',\n",
    "                                                                      'NumericValue':'Prevalence (%)'                                                                   \n",
    "                                                                      })\n",
    "\n",
    "# Rename Sex categories to be more meaningful\n",
    "# https://www.quora.com/How-do-you-delete-quotes-and-double-quotes-from-DataFrame-Python-regex-pandas-dataframe-development\n",
    "adult_curr_ecig_df_rename['Sex'] = adult_curr_ecig_df_rename['Sex'].replace({'SEX_BTSX': 'Overall'}, regex=True)\n",
    "adult_curr_ecig_df_rename['Sex'] = adult_curr_ecig_df_rename['Sex'].replace({'SEX_MLE': 'Male'}, regex=True)\n",
    "adult_curr_ecig_df_rename['Sex'] = adult_curr_ecig_df_rename['Sex'].replace({'SEX_FMLE': 'Female'}, regex=True)\n",
    "\n",
    "# Filter for overall only\n",
    "adult_ecig_overall = adult_curr_ecig_df_rename.loc[(adult_curr_ecig_df_rename['Sex']=='Overall')]\n",
    "\n",
    "# Get min/max of Year\n",
    "min_yr_adult = adult_ecig_overall['Year'].min()\n",
    "max_yr_adult = adult_ecig_overall['Year'].max()\n",
    "max_adult_ecig = adult_ecig_overall['Prevalence (%)'].max()\n",
    "max_adult_ecig_country = adult_ecig_overall['Country'].loc[(adult_ecig_overall['Prevalence (%)']==max_adult_ecig)]\n",
    "# print(f\"{max_adult_ecig_country} {max_adult_ecig}%\")\n",
    "\n",
    "# Adult e-cigarette prevalence map plot\n",
    "# https://plotly.com/python/choropleth-maps/\n",
    "import plotly.express as px\n",
    "\n",
    "fig = px.choropleth(adult_ecig_overall, locations=\"Country\",\n",
    "                    color=\"Prevalence (%)\", \n",
    "                    hover_data = ['Country','Region','Prevalence (%)'],\n",
    "                    color_continuous_scale=px.colors.sequential.matter,\n",
    "                    projection='natural earth'\n",
    "                    # title='Countries with recorded adult e-cigarette use in 2019'\n",
    "                    )\n",
    "# https://stackoverflow.com/questions/63466163/how-to-enlarge-geographic-map-in-python-plotly-choropleth-plot\n",
    "fig.update_layout(margin=dict(l=0, r=0, b=0, t=0),\n",
    "                  width=1200, \n",
    "                  height=600)\n",
    "print('Prevalence of adult e-cigarette use')\n",
    "print('Datasource: World Health Organisation')\n",
    "print(f\"(Data collected between {min_yr_adult} and {max_yr_adult})\")\n",
    "\n",
    "fig.show()"
   ]
  },
  {
   "cell_type": "markdown",
   "id": "f1405321-927b-465f-a0ea-f4f0ce099a94",
   "metadata": {},
   "source": [
    "## Adolescent current e-cigarette use"
   ]
  },
  {
   "cell_type": "code",
   "execution_count": 12,
   "id": "57c033cf-0546-4f63-b179-2439f0fc68b6",
   "metadata": {},
   "outputs": [
    {
     "name": "stdout",
     "output_type": "stream",
     "text": [
      "Prevalence of adolescent e-cigarette use\n",
      "Datasource: World Health Organisation\n",
      "Data collected between 2014 and 2022\n"
     ]
    },
    {
     "data": {
      "application/vnd.plotly.v1+json": {
       "config": {
        "plotlyServerURL": "https://plot.ly"
       },
       "data": [
        {
         "coloraxis": "coloraxis",
         "customdata": [
          [
           "QAT",
           "Eastern Mediterranean",
           11.3
          ],
          [
           "YEM",
           "Eastern Mediterranean",
           14.5
          ],
          [
           "MDA",
           "Europe",
           12.7
          ],
          [
           "SYC",
           "Africa",
           7.3
          ],
          [
           "CUB",
           "Americas",
           6.1
          ],
          [
           "LVA",
           "Europe",
           18
          ],
          [
           "LCA",
           "Americas",
           11
          ],
          [
           "ECU",
           "Americas",
           10.7
          ],
          [
           "CHN",
           "Western Pacific",
           2.7
          ],
          [
           "GRD",
           "Americas",
           7.2
          ],
          [
           "PRY",
           "Americas",
           12.5
          ],
          [
           "SVN",
           "Europe",
           10
          ],
          [
           "THA",
           "South-East Asia",
           3.3
          ],
          [
           "GUY",
           "Americas",
           9
          ],
          [
           "MUS",
           "Africa",
           10.9
          ],
          [
           "FRA",
           "Europe",
           13.9
          ],
          [
           "CZE",
           "Europe",
           19.8
          ],
          [
           "PRT",
           "Europe",
           6.1
          ],
          [
           "MKD",
           "Europe",
           7.1
          ],
          [
           "KHM",
           "Western Pacific",
           0.9
          ],
          [
           "UZB",
           "Europe",
           0.7
          ],
          [
           "PER",
           "Americas",
           6.3
          ],
          [
           "MNE",
           "Europe",
           7
          ],
          [
           "USA",
           "Americas",
           4.7
          ],
          [
           "UKR",
           "Europe",
           11
          ],
          [
           "LTU",
           "Europe",
           31
          ],
          [
           "CHE",
           "Europe",
           25.1
          ],
          [
           "ARG",
           "Americas",
           7.1
          ],
          [
           "KIR",
           "Western Pacific",
           13.6
          ],
          [
           "PAN",
           "Americas",
           6.4
          ],
          [
           "EST",
           "Europe",
           15
          ],
          [
           "BGR",
           "Europe",
           13
          ],
          [
           "PLW",
           "Western Pacific",
           45.7
          ],
          [
           "VCT",
           "Americas",
           8.1
          ],
          [
           "MNG",
           "Western Pacific",
           3.5
          ],
          [
           "OMN",
           "Eastern Mediterranean",
           5.3
          ],
          [
           "ALB",
           "Europe",
           9.3
          ],
          [
           "IRL",
           "Europe",
           15
          ],
          [
           "COL",
           "Americas",
           9
          ],
          [
           "MRT",
           "Africa",
           18.8
          ],
          [
           "BLR",
           "Europe",
           15.1
          ],
          [
           "VNM",
           "Western Pacific",
           3.5
          ],
          [
           "MHL",
           "Western Pacific",
           8.2
          ],
          [
           "SUR",
           "Americas",
           5.9
          ],
          [
           "MCO",
           "Europe",
           41
          ],
          [
           "MAR",
           "Eastern Mediterranean",
           5.3
          ],
          [
           "PHL",
           "Western Pacific",
           14.1
          ],
          [
           "BOL",
           "Americas",
           7.4
          ],
          [
           "GTM",
           "Americas",
           5.6
          ],
          [
           "AUT",
           "Europe",
           13
          ],
          [
           "SMR",
           "Europe",
           8.9
          ],
          [
           "DOM",
           "Americas",
           7.7
          ],
          [
           "BRN",
           "Western Pacific",
           13.3
          ],
          [
           "TTO",
           "Americas",
           17.2
          ],
          [
           "NZL",
           "Western Pacific",
           12
          ],
          [
           "DNK",
           "Europe",
           14
          ],
          [
           "MYS",
           "Western Pacific",
           9.8
          ],
          [
           "JPN",
           "Western Pacific",
           0.7
          ],
          [
           "GEO",
           "Europe",
           7
          ],
          [
           "VUT",
           "Western Pacific",
           5.7
          ],
          [
           "BRA",
           "Americas",
           2.8
          ],
          [
           "URY",
           "Americas",
           9.9
          ],
          [
           "POL",
           "Europe",
           30
          ],
          [
           "DEU",
           "Europe",
           16
          ],
          [
           "ATG",
           "Americas",
           4
          ],
          [
           "SRB",
           "Europe",
           5.5
          ],
          [
           "VEN",
           "Americas",
           9.5
          ],
          [
           "ITA",
           "Europe",
           13
          ],
          [
           "CAN",
           "Americas",
           11.1
          ],
          [
           "COG",
           "Africa",
           6
          ],
          [
           "HUN",
           "Europe",
           12
          ],
          [
           "KAZ",
           "Europe",
           3.1
          ],
          [
           "ESP",
           "Europe",
           8.1
          ],
          [
           "NIU",
           "Western Pacific",
           35.7
          ],
          [
           "NLD",
           "Europe",
           9.3
          ],
          [
           "BLZ",
           "Americas",
           6.5
          ],
          [
           "TGO",
           "Africa",
           1
          ],
          [
           "SVK",
           "Europe",
           18
          ],
          [
           "LAO",
           "Western Pacific",
           4.3
          ],
          [
           "KOR",
           "Western Pacific",
           3.3
          ],
          [
           "SAU",
           "Eastern Mediterranean",
           5.4
          ],
          [
           "GRC",
           "Europe",
           11
          ],
          [
           "BIH",
           "Europe",
           10.9
          ],
          [
           "TUN",
           "Eastern Mediterranean",
           4.9
          ],
          [
           "GBR",
           "Europe",
           9
          ],
          [
           "RUS",
           "Europe",
           16.7
          ],
          [
           "PNG",
           "Western Pacific",
           19.6
          ],
          [
           "KGZ",
           "Europe",
           2.8
          ],
          [
           "MLT",
           "Europe",
           7.1
          ],
          [
           "COK",
           "Western Pacific",
           7.2
          ],
          [
           "FJI",
           "Western Pacific",
           11.9
          ],
          [
           "HRV",
           "Europe",
           12
          ],
          [
           "CYP",
           "Europe",
           10
          ],
          [
           "JAM",
           "Americas",
           11.7
          ],
          [
           "ROU",
           "Europe",
           14
          ],
          [
           "SLV",
           "Americas",
           0.6
          ],
          [
           "FSM",
           "Western Pacific",
           13.9
          ],
          [
           "GHA",
           "Africa",
           4.9
          ],
          [
           "AUS",
           "Western Pacific",
           4.5
          ],
          [
           "SWE",
           "Europe",
           20
          ],
          [
           "NOR",
           "Europe",
           10
          ],
          [
           "IRQ",
           "Eastern Mediterranean",
           7.5
          ]
         ],
         "geo": "geo",
         "hovertemplate": "Country=%{customdata[0]}<br>Region=%{customdata[1]}<br>Prevalence (%)=%{z}<extra></extra>",
         "locations": [
          "QAT",
          "YEM",
          "MDA",
          "SYC",
          "CUB",
          "LVA",
          "LCA",
          "ECU",
          "CHN",
          "GRD",
          "PRY",
          "SVN",
          "THA",
          "GUY",
          "MUS",
          "FRA",
          "CZE",
          "PRT",
          "MKD",
          "KHM",
          "UZB",
          "PER",
          "MNE",
          "USA",
          "UKR",
          "LTU",
          "CHE",
          "ARG",
          "KIR",
          "PAN",
          "EST",
          "BGR",
          "PLW",
          "VCT",
          "MNG",
          "OMN",
          "ALB",
          "IRL",
          "COL",
          "MRT",
          "BLR",
          "VNM",
          "MHL",
          "SUR",
          "MCO",
          "MAR",
          "PHL",
          "BOL",
          "GTM",
          "AUT",
          "SMR",
          "DOM",
          "BRN",
          "TTO",
          "NZL",
          "DNK",
          "MYS",
          "JPN",
          "GEO",
          "VUT",
          "BRA",
          "URY",
          "POL",
          "DEU",
          "ATG",
          "SRB",
          "VEN",
          "ITA",
          "CAN",
          "COG",
          "HUN",
          "KAZ",
          "ESP",
          "NIU",
          "NLD",
          "BLZ",
          "TGO",
          "SVK",
          "LAO",
          "KOR",
          "SAU",
          "GRC",
          "BIH",
          "TUN",
          "GBR",
          "RUS",
          "PNG",
          "KGZ",
          "MLT",
          "COK",
          "FJI",
          "HRV",
          "CYP",
          "JAM",
          "ROU",
          "SLV",
          "FSM",
          "GHA",
          "AUS",
          "SWE",
          "NOR",
          "IRQ"
         ],
         "name": "",
         "type": "choropleth",
         "z": [
          11.3,
          14.5,
          12.7,
          7.3,
          6.1,
          18,
          11,
          10.7,
          2.7,
          7.2,
          12.5,
          10,
          3.3,
          9,
          10.9,
          13.9,
          19.8,
          6.1,
          7.1,
          0.9,
          0.7,
          6.3,
          7,
          4.7,
          11,
          31,
          25.1,
          7.1,
          13.6,
          6.4,
          15,
          13,
          45.7,
          8.1,
          3.5,
          5.3,
          9.3,
          15,
          9,
          18.8,
          15.1,
          3.5,
          8.2,
          5.9,
          41,
          5.3,
          14.1,
          7.4,
          5.6,
          13,
          8.9,
          7.7,
          13.3,
          17.2,
          12,
          14,
          9.8,
          0.7,
          7,
          5.7,
          2.8,
          9.9,
          30,
          16,
          4,
          5.5,
          9.5,
          13,
          11.1,
          6,
          12,
          3.1,
          8.1,
          35.7,
          9.3,
          6.5,
          1,
          18,
          4.3,
          3.3,
          5.4,
          11,
          10.9,
          4.9,
          9,
          16.7,
          19.6,
          2.8,
          7.1,
          7.2,
          11.9,
          12,
          10,
          11.7,
          14,
          0.6,
          13.9,
          4.9,
          4.5,
          20,
          10,
          7.5
         ]
        }
       ],
       "layout": {
        "coloraxis": {
         "colorbar": {
          "title": {
           "text": "Prevalence (%)"
          }
         },
         "colorscale": [
          [
           0,
           "rgb(253, 237, 176)"
          ],
          [
           0.09090909090909091,
           "rgb(250, 205, 145)"
          ],
          [
           0.18181818181818182,
           "rgb(246, 173, 119)"
          ],
          [
           0.2727272727272727,
           "rgb(240, 142, 98)"
          ],
          [
           0.36363636363636365,
           "rgb(231, 109, 84)"
          ],
          [
           0.45454545454545453,
           "rgb(216, 80, 83)"
          ],
          [
           0.5454545454545454,
           "rgb(195, 56, 90)"
          ],
          [
           0.6363636363636364,
           "rgb(168, 40, 96)"
          ],
          [
           0.7272727272727273,
           "rgb(138, 29, 99)"
          ],
          [
           0.8181818181818182,
           "rgb(107, 24, 93)"
          ],
          [
           0.9090909090909091,
           "rgb(76, 21, 80)"
          ],
          [
           1,
           "rgb(47, 15, 61)"
          ]
         ]
        },
        "geo": {
         "center": {},
         "domain": {
          "x": [
           0,
           1
          ],
          "y": [
           0,
           1
          ]
         },
         "projection": {
          "type": "natural earth"
         }
        },
        "height": 600,
        "legend": {
         "tracegroupgap": 0
        },
        "margin": {
         "b": 0,
         "l": 0,
         "r": 0,
         "t": 0
        },
        "template": {
         "data": {
          "bar": [
           {
            "error_x": {
             "color": "#2a3f5f"
            },
            "error_y": {
             "color": "#2a3f5f"
            },
            "marker": {
             "line": {
              "color": "#E5ECF6",
              "width": 0.5
             },
             "pattern": {
              "fillmode": "overlay",
              "size": 10,
              "solidity": 0.2
             }
            },
            "type": "bar"
           }
          ],
          "barpolar": [
           {
            "marker": {
             "line": {
              "color": "#E5ECF6",
              "width": 0.5
             },
             "pattern": {
              "fillmode": "overlay",
              "size": 10,
              "solidity": 0.2
             }
            },
            "type": "barpolar"
           }
          ],
          "carpet": [
           {
            "aaxis": {
             "endlinecolor": "#2a3f5f",
             "gridcolor": "white",
             "linecolor": "white",
             "minorgridcolor": "white",
             "startlinecolor": "#2a3f5f"
            },
            "baxis": {
             "endlinecolor": "#2a3f5f",
             "gridcolor": "white",
             "linecolor": "white",
             "minorgridcolor": "white",
             "startlinecolor": "#2a3f5f"
            },
            "type": "carpet"
           }
          ],
          "choropleth": [
           {
            "colorbar": {
             "outlinewidth": 0,
             "ticks": ""
            },
            "type": "choropleth"
           }
          ],
          "contour": [
           {
            "colorbar": {
             "outlinewidth": 0,
             "ticks": ""
            },
            "colorscale": [
             [
              0,
              "#0d0887"
             ],
             [
              0.1111111111111111,
              "#46039f"
             ],
             [
              0.2222222222222222,
              "#7201a8"
             ],
             [
              0.3333333333333333,
              "#9c179e"
             ],
             [
              0.4444444444444444,
              "#bd3786"
             ],
             [
              0.5555555555555556,
              "#d8576b"
             ],
             [
              0.6666666666666666,
              "#ed7953"
             ],
             [
              0.7777777777777778,
              "#fb9f3a"
             ],
             [
              0.8888888888888888,
              "#fdca26"
             ],
             [
              1,
              "#f0f921"
             ]
            ],
            "type": "contour"
           }
          ],
          "contourcarpet": [
           {
            "colorbar": {
             "outlinewidth": 0,
             "ticks": ""
            },
            "type": "contourcarpet"
           }
          ],
          "heatmap": [
           {
            "colorbar": {
             "outlinewidth": 0,
             "ticks": ""
            },
            "colorscale": [
             [
              0,
              "#0d0887"
             ],
             [
              0.1111111111111111,
              "#46039f"
             ],
             [
              0.2222222222222222,
              "#7201a8"
             ],
             [
              0.3333333333333333,
              "#9c179e"
             ],
             [
              0.4444444444444444,
              "#bd3786"
             ],
             [
              0.5555555555555556,
              "#d8576b"
             ],
             [
              0.6666666666666666,
              "#ed7953"
             ],
             [
              0.7777777777777778,
              "#fb9f3a"
             ],
             [
              0.8888888888888888,
              "#fdca26"
             ],
             [
              1,
              "#f0f921"
             ]
            ],
            "type": "heatmap"
           }
          ],
          "heatmapgl": [
           {
            "colorbar": {
             "outlinewidth": 0,
             "ticks": ""
            },
            "colorscale": [
             [
              0,
              "#0d0887"
             ],
             [
              0.1111111111111111,
              "#46039f"
             ],
             [
              0.2222222222222222,
              "#7201a8"
             ],
             [
              0.3333333333333333,
              "#9c179e"
             ],
             [
              0.4444444444444444,
              "#bd3786"
             ],
             [
              0.5555555555555556,
              "#d8576b"
             ],
             [
              0.6666666666666666,
              "#ed7953"
             ],
             [
              0.7777777777777778,
              "#fb9f3a"
             ],
             [
              0.8888888888888888,
              "#fdca26"
             ],
             [
              1,
              "#f0f921"
             ]
            ],
            "type": "heatmapgl"
           }
          ],
          "histogram": [
           {
            "marker": {
             "pattern": {
              "fillmode": "overlay",
              "size": 10,
              "solidity": 0.2
             }
            },
            "type": "histogram"
           }
          ],
          "histogram2d": [
           {
            "colorbar": {
             "outlinewidth": 0,
             "ticks": ""
            },
            "colorscale": [
             [
              0,
              "#0d0887"
             ],
             [
              0.1111111111111111,
              "#46039f"
             ],
             [
              0.2222222222222222,
              "#7201a8"
             ],
             [
              0.3333333333333333,
              "#9c179e"
             ],
             [
              0.4444444444444444,
              "#bd3786"
             ],
             [
              0.5555555555555556,
              "#d8576b"
             ],
             [
              0.6666666666666666,
              "#ed7953"
             ],
             [
              0.7777777777777778,
              "#fb9f3a"
             ],
             [
              0.8888888888888888,
              "#fdca26"
             ],
             [
              1,
              "#f0f921"
             ]
            ],
            "type": "histogram2d"
           }
          ],
          "histogram2dcontour": [
           {
            "colorbar": {
             "outlinewidth": 0,
             "ticks": ""
            },
            "colorscale": [
             [
              0,
              "#0d0887"
             ],
             [
              0.1111111111111111,
              "#46039f"
             ],
             [
              0.2222222222222222,
              "#7201a8"
             ],
             [
              0.3333333333333333,
              "#9c179e"
             ],
             [
              0.4444444444444444,
              "#bd3786"
             ],
             [
              0.5555555555555556,
              "#d8576b"
             ],
             [
              0.6666666666666666,
              "#ed7953"
             ],
             [
              0.7777777777777778,
              "#fb9f3a"
             ],
             [
              0.8888888888888888,
              "#fdca26"
             ],
             [
              1,
              "#f0f921"
             ]
            ],
            "type": "histogram2dcontour"
           }
          ],
          "mesh3d": [
           {
            "colorbar": {
             "outlinewidth": 0,
             "ticks": ""
            },
            "type": "mesh3d"
           }
          ],
          "parcoords": [
           {
            "line": {
             "colorbar": {
              "outlinewidth": 0,
              "ticks": ""
             }
            },
            "type": "parcoords"
           }
          ],
          "pie": [
           {
            "automargin": true,
            "type": "pie"
           }
          ],
          "scatter": [
           {
            "fillpattern": {
             "fillmode": "overlay",
             "size": 10,
             "solidity": 0.2
            },
            "type": "scatter"
           }
          ],
          "scatter3d": [
           {
            "line": {
             "colorbar": {
              "outlinewidth": 0,
              "ticks": ""
             }
            },
            "marker": {
             "colorbar": {
              "outlinewidth": 0,
              "ticks": ""
             }
            },
            "type": "scatter3d"
           }
          ],
          "scattercarpet": [
           {
            "marker": {
             "colorbar": {
              "outlinewidth": 0,
              "ticks": ""
             }
            },
            "type": "scattercarpet"
           }
          ],
          "scattergeo": [
           {
            "marker": {
             "colorbar": {
              "outlinewidth": 0,
              "ticks": ""
             }
            },
            "type": "scattergeo"
           }
          ],
          "scattergl": [
           {
            "marker": {
             "colorbar": {
              "outlinewidth": 0,
              "ticks": ""
             }
            },
            "type": "scattergl"
           }
          ],
          "scattermapbox": [
           {
            "marker": {
             "colorbar": {
              "outlinewidth": 0,
              "ticks": ""
             }
            },
            "type": "scattermapbox"
           }
          ],
          "scatterpolar": [
           {
            "marker": {
             "colorbar": {
              "outlinewidth": 0,
              "ticks": ""
             }
            },
            "type": "scatterpolar"
           }
          ],
          "scatterpolargl": [
           {
            "marker": {
             "colorbar": {
              "outlinewidth": 0,
              "ticks": ""
             }
            },
            "type": "scatterpolargl"
           }
          ],
          "scatterternary": [
           {
            "marker": {
             "colorbar": {
              "outlinewidth": 0,
              "ticks": ""
             }
            },
            "type": "scatterternary"
           }
          ],
          "surface": [
           {
            "colorbar": {
             "outlinewidth": 0,
             "ticks": ""
            },
            "colorscale": [
             [
              0,
              "#0d0887"
             ],
             [
              0.1111111111111111,
              "#46039f"
             ],
             [
              0.2222222222222222,
              "#7201a8"
             ],
             [
              0.3333333333333333,
              "#9c179e"
             ],
             [
              0.4444444444444444,
              "#bd3786"
             ],
             [
              0.5555555555555556,
              "#d8576b"
             ],
             [
              0.6666666666666666,
              "#ed7953"
             ],
             [
              0.7777777777777778,
              "#fb9f3a"
             ],
             [
              0.8888888888888888,
              "#fdca26"
             ],
             [
              1,
              "#f0f921"
             ]
            ],
            "type": "surface"
           }
          ],
          "table": [
           {
            "cells": {
             "fill": {
              "color": "#EBF0F8"
             },
             "line": {
              "color": "white"
             }
            },
            "header": {
             "fill": {
              "color": "#C8D4E3"
             },
             "line": {
              "color": "white"
             }
            },
            "type": "table"
           }
          ]
         },
         "layout": {
          "annotationdefaults": {
           "arrowcolor": "#2a3f5f",
           "arrowhead": 0,
           "arrowwidth": 1
          },
          "autotypenumbers": "strict",
          "coloraxis": {
           "colorbar": {
            "outlinewidth": 0,
            "ticks": ""
           }
          },
          "colorscale": {
           "diverging": [
            [
             0,
             "#8e0152"
            ],
            [
             0.1,
             "#c51b7d"
            ],
            [
             0.2,
             "#de77ae"
            ],
            [
             0.3,
             "#f1b6da"
            ],
            [
             0.4,
             "#fde0ef"
            ],
            [
             0.5,
             "#f7f7f7"
            ],
            [
             0.6,
             "#e6f5d0"
            ],
            [
             0.7,
             "#b8e186"
            ],
            [
             0.8,
             "#7fbc41"
            ],
            [
             0.9,
             "#4d9221"
            ],
            [
             1,
             "#276419"
            ]
           ],
           "sequential": [
            [
             0,
             "#0d0887"
            ],
            [
             0.1111111111111111,
             "#46039f"
            ],
            [
             0.2222222222222222,
             "#7201a8"
            ],
            [
             0.3333333333333333,
             "#9c179e"
            ],
            [
             0.4444444444444444,
             "#bd3786"
            ],
            [
             0.5555555555555556,
             "#d8576b"
            ],
            [
             0.6666666666666666,
             "#ed7953"
            ],
            [
             0.7777777777777778,
             "#fb9f3a"
            ],
            [
             0.8888888888888888,
             "#fdca26"
            ],
            [
             1,
             "#f0f921"
            ]
           ],
           "sequentialminus": [
            [
             0,
             "#0d0887"
            ],
            [
             0.1111111111111111,
             "#46039f"
            ],
            [
             0.2222222222222222,
             "#7201a8"
            ],
            [
             0.3333333333333333,
             "#9c179e"
            ],
            [
             0.4444444444444444,
             "#bd3786"
            ],
            [
             0.5555555555555556,
             "#d8576b"
            ],
            [
             0.6666666666666666,
             "#ed7953"
            ],
            [
             0.7777777777777778,
             "#fb9f3a"
            ],
            [
             0.8888888888888888,
             "#fdca26"
            ],
            [
             1,
             "#f0f921"
            ]
           ]
          },
          "colorway": [
           "#636efa",
           "#EF553B",
           "#00cc96",
           "#ab63fa",
           "#FFA15A",
           "#19d3f3",
           "#FF6692",
           "#B6E880",
           "#FF97FF",
           "#FECB52"
          ],
          "font": {
           "color": "#2a3f5f"
          },
          "geo": {
           "bgcolor": "white",
           "lakecolor": "white",
           "landcolor": "#E5ECF6",
           "showlakes": true,
           "showland": true,
           "subunitcolor": "white"
          },
          "hoverlabel": {
           "align": "left"
          },
          "hovermode": "closest",
          "mapbox": {
           "style": "light"
          },
          "paper_bgcolor": "white",
          "plot_bgcolor": "#E5ECF6",
          "polar": {
           "angularaxis": {
            "gridcolor": "white",
            "linecolor": "white",
            "ticks": ""
           },
           "bgcolor": "#E5ECF6",
           "radialaxis": {
            "gridcolor": "white",
            "linecolor": "white",
            "ticks": ""
           }
          },
          "scene": {
           "xaxis": {
            "backgroundcolor": "#E5ECF6",
            "gridcolor": "white",
            "gridwidth": 2,
            "linecolor": "white",
            "showbackground": true,
            "ticks": "",
            "zerolinecolor": "white"
           },
           "yaxis": {
            "backgroundcolor": "#E5ECF6",
            "gridcolor": "white",
            "gridwidth": 2,
            "linecolor": "white",
            "showbackground": true,
            "ticks": "",
            "zerolinecolor": "white"
           },
           "zaxis": {
            "backgroundcolor": "#E5ECF6",
            "gridcolor": "white",
            "gridwidth": 2,
            "linecolor": "white",
            "showbackground": true,
            "ticks": "",
            "zerolinecolor": "white"
           }
          },
          "shapedefaults": {
           "line": {
            "color": "#2a3f5f"
           }
          },
          "ternary": {
           "aaxis": {
            "gridcolor": "white",
            "linecolor": "white",
            "ticks": ""
           },
           "baxis": {
            "gridcolor": "white",
            "linecolor": "white",
            "ticks": ""
           },
           "bgcolor": "#E5ECF6",
           "caxis": {
            "gridcolor": "white",
            "linecolor": "white",
            "ticks": ""
           }
          },
          "title": {
           "x": 0.05
          },
          "xaxis": {
           "automargin": true,
           "gridcolor": "white",
           "linecolor": "white",
           "ticks": "",
           "title": {
            "standoff": 15
           },
           "zerolinecolor": "white",
           "zerolinewidth": 2
          },
          "yaxis": {
           "automargin": true,
           "gridcolor": "white",
           "linecolor": "white",
           "ticks": "",
           "title": {
            "standoff": 15
           },
           "zerolinecolor": "white",
           "zerolinewidth": 2
          }
         }
        },
        "width": 1200
       }
      },
      "image/png": "[encoded data removed]",
      "text/html": [
       "<div>                            <div id=\"a49f83a7-d35a-44b8-8fa0-eba82eb4b39b\" class=\"plotly-graph-div\" style=\"height:600px; width:1200px;\"></div>            <script type=\"text/javascript\">                require([\"plotly\"], function(Plotly) {                    window.PLOTLYENV=window.PLOTLYENV || {};                                    if (document.getElementById(\"a49f83a7-d35a-44b8-8fa0-eba82eb4b39b\")) {                    Plotly.newPlot(                        \"a49f83a7-d35a-44b8-8fa0-eba82eb4b39b\",                        [{\"coloraxis\":\"coloraxis\",\"customdata\":[[\"QAT\",\"Eastern Mediterranean\",11.3],[\"YEM\",\"Eastern Mediterranean\",14.5],[\"MDA\",\"Europe\",12.7],[\"SYC\",\"Africa\",7.3],[\"CUB\",\"Americas\",6.1],[\"LVA\",\"Europe\",18.0],[\"LCA\",\"Americas\",11.0],[\"ECU\",\"Americas\",10.7],[\"CHN\",\"Western Pacific\",2.7],[\"GRD\",\"Americas\",7.2],[\"PRY\",\"Americas\",12.5],[\"SVN\",\"Europe\",10.0],[\"THA\",\"South-East Asia\",3.3],[\"GUY\",\"Americas\",9.0],[\"MUS\",\"Africa\",10.9],[\"FRA\",\"Europe\",13.9],[\"CZE\",\"Europe\",19.8],[\"PRT\",\"Europe\",6.1],[\"MKD\",\"Europe\",7.1],[\"KHM\",\"Western Pacific\",0.9],[\"UZB\",\"Europe\",0.7],[\"PER\",\"Americas\",6.3],[\"MNE\",\"Europe\",7.0],[\"USA\",\"Americas\",4.7],[\"UKR\",\"Europe\",11.0],[\"LTU\",\"Europe\",31.0],[\"CHE\",\"Europe\",25.1],[\"ARG\",\"Americas\",7.1],[\"KIR\",\"Western Pacific\",13.6],[\"PAN\",\"Americas\",6.4],[\"EST\",\"Europe\",15.0],[\"BGR\",\"Europe\",13.0],[\"PLW\",\"Western Pacific\",45.7],[\"VCT\",\"Americas\",8.1],[\"MNG\",\"Western Pacific\",3.5],[\"OMN\",\"Eastern Mediterranean\",5.3],[\"ALB\",\"Europe\",9.3],[\"IRL\",\"Europe\",15.0],[\"COL\",\"Americas\",9.0],[\"MRT\",\"Africa\",18.8],[\"BLR\",\"Europe\",15.1],[\"VNM\",\"Western Pacific\",3.5],[\"MHL\",\"Western Pacific\",8.2],[\"SUR\",\"Americas\",5.9],[\"MCO\",\"Europe\",41.0],[\"MAR\",\"Eastern Mediterranean\",5.3],[\"PHL\",\"Western Pacific\",14.1],[\"BOL\",\"Americas\",7.4],[\"GTM\",\"Americas\",5.6],[\"AUT\",\"Europe\",13.0],[\"SMR\",\"Europe\",8.9],[\"DOM\",\"Americas\",7.7],[\"BRN\",\"Western Pacific\",13.3],[\"TTO\",\"Americas\",17.2],[\"NZL\",\"Western Pacific\",12.0],[\"DNK\",\"Europe\",14.0],[\"MYS\",\"Western Pacific\",9.8],[\"JPN\",\"Western Pacific\",0.7],[\"GEO\",\"Europe\",7.0],[\"VUT\",\"Western Pacific\",5.7],[\"BRA\",\"Americas\",2.8],[\"URY\",\"Americas\",9.9],[\"POL\",\"Europe\",30.0],[\"DEU\",\"Europe\",16.0],[\"ATG\",\"Americas\",4.0],[\"SRB\",\"Europe\",5.5],[\"VEN\",\"Americas\",9.5],[\"ITA\",\"Europe\",13.0],[\"CAN\",\"Americas\",11.1],[\"COG\",\"Africa\",6.0],[\"HUN\",\"Europe\",12.0],[\"KAZ\",\"Europe\",3.1],[\"ESP\",\"Europe\",8.1],[\"NIU\",\"Western Pacific\",35.7],[\"NLD\",\"Europe\",9.3],[\"BLZ\",\"Americas\",6.5],[\"TGO\",\"Africa\",1.0],[\"SVK\",\"Europe\",18.0],[\"LAO\",\"Western Pacific\",4.3],[\"KOR\",\"Western Pacific\",3.3],[\"SAU\",\"Eastern Mediterranean\",5.4],[\"GRC\",\"Europe\",11.0],[\"BIH\",\"Europe\",10.9],[\"TUN\",\"Eastern Mediterranean\",4.9],[\"GBR\",\"Europe\",9.0],[\"RUS\",\"Europe\",16.7],[\"PNG\",\"Western Pacific\",19.6],[\"KGZ\",\"Europe\",2.8],[\"MLT\",\"Europe\",7.1],[\"COK\",\"Western Pacific\",7.2],[\"FJI\",\"Western Pacific\",11.9],[\"HRV\",\"Europe\",12.0],[\"CYP\",\"Europe\",10.0],[\"JAM\",\"Americas\",11.7],[\"ROU\",\"Europe\",14.0],[\"SLV\",\"Americas\",0.6],[\"FSM\",\"Western Pacific\",13.9],[\"GHA\",\"Africa\",4.9],[\"AUS\",\"Western Pacific\",4.5],[\"SWE\",\"Europe\",20.0],[\"NOR\",\"Europe\",10.0],[\"IRQ\",\"Eastern Mediterranean\",7.5]],\"geo\":\"geo\",\"hovertemplate\":\"Country=%{customdata[0]}<br>Region=%{customdata[1]}<br>Prevalence (%)=%{z}<extra></extra>\",\"locations\":[\"QAT\",\"YEM\",\"MDA\",\"SYC\",\"CUB\",\"LVA\",\"LCA\",\"ECU\",\"CHN\",\"GRD\",\"PRY\",\"SVN\",\"THA\",\"GUY\",\"MUS\",\"FRA\",\"CZE\",\"PRT\",\"MKD\",\"KHM\",\"UZB\",\"PER\",\"MNE\",\"USA\",\"UKR\",\"LTU\",\"CHE\",\"ARG\",\"KIR\",\"PAN\",\"EST\",\"BGR\",\"PLW\",\"VCT\",\"MNG\",\"OMN\",\"ALB\",\"IRL\",\"COL\",\"MRT\",\"BLR\",\"VNM\",\"MHL\",\"SUR\",\"MCO\",\"MAR\",\"PHL\",\"BOL\",\"GTM\",\"AUT\",\"SMR\",\"DOM\",\"BRN\",\"TTO\",\"NZL\",\"DNK\",\"MYS\",\"JPN\",\"GEO\",\"VUT\",\"BRA\",\"URY\",\"POL\",\"DEU\",\"ATG\",\"SRB\",\"VEN\",\"ITA\",\"CAN\",\"COG\",\"HUN\",\"KAZ\",\"ESP\",\"NIU\",\"NLD\",\"BLZ\",\"TGO\",\"SVK\",\"LAO\",\"KOR\",\"SAU\",\"GRC\",\"BIH\",\"TUN\",\"GBR\",\"RUS\",\"PNG\",\"KGZ\",\"MLT\",\"COK\",\"FJI\",\"HRV\",\"CYP\",\"JAM\",\"ROU\",\"SLV\",\"FSM\",\"GHA\",\"AUS\",\"SWE\",\"NOR\",\"IRQ\"],\"name\":\"\",\"z\":[11.3,14.5,12.7,7.3,6.1,18.0,11.0,10.7,2.7,7.2,12.5,10.0,3.3,9.0,10.9,13.9,19.8,6.1,7.1,0.9,0.7,6.3,7.0,4.7,11.0,31.0,25.1,7.1,13.6,6.4,15.0,13.0,45.7,8.1,3.5,5.3,9.3,15.0,9.0,18.8,15.1,3.5,8.2,5.9,41.0,5.3,14.1,7.4,5.6,13.0,8.9,7.7,13.3,17.2,12.0,14.0,9.8,0.7,7.0,5.7,2.8,9.9,30.0,16.0,4.0,5.5,9.5,13.0,11.1,6.0,12.0,3.1,8.1,35.7,9.3,6.5,1.0,18.0,4.3,3.3,5.4,11.0,10.9,4.9,9.0,16.7,19.6,2.8,7.1,7.2,11.9,12.0,10.0,11.7,14.0,0.6,13.9,4.9,4.5,20.0,10.0,7.5],\"type\":\"choropleth\"}],                        {\"template\":{\"data\":{\"histogram2dcontour\":[{\"type\":\"histogram2dcontour\",\"colorbar\":{\"outlinewidth\":0,\"ticks\":\"\"},\"colorscale\":[[0.0,\"#0d0887\"],[0.1111111111111111,\"#46039f\"],[0.2222222222222222,\"#7201a8\"],[0.3333333333333333,\"#9c179e\"],[0.4444444444444444,\"#bd3786\"],[0.5555555555555556,\"#d8576b\"],[0.6666666666666666,\"#ed7953\"],[0.7777777777777778,\"#fb9f3a\"],[0.8888888888888888,\"#fdca26\"],[1.0,\"#f0f921\"]]}],\"choropleth\":[{\"type\":\"choropleth\",\"colorbar\":{\"outlinewidth\":0,\"ticks\":\"\"}}],\"histogram2d\":[{\"type\":\"histogram2d\",\"colorbar\":{\"outlinewidth\":0,\"ticks\":\"\"},\"colorscale\":[[0.0,\"#0d0887\"],[0.1111111111111111,\"#46039f\"],[0.2222222222222222,\"#7201a8\"],[0.3333333333333333,\"#9c179e\"],[0.4444444444444444,\"#bd3786\"],[0.5555555555555556,\"#d8576b\"],[0.6666666666666666,\"#ed7953\"],[0.7777777777777778,\"#fb9f3a\"],[0.8888888888888888,\"#fdca26\"],[1.0,\"#f0f921\"]]}],\"heatmap\":[{\"type\":\"heatmap\",\"colorbar\":{\"outlinewidth\":0,\"ticks\":\"\"},\"colorscale\":[[0.0,\"#0d0887\"],[0.1111111111111111,\"#46039f\"],[0.2222222222222222,\"#7201a8\"],[0.3333333333333333,\"#9c179e\"],[0.4444444444444444,\"#bd3786\"],[0.5555555555555556,\"#d8576b\"],[0.6666666666666666,\"#ed7953\"],[0.7777777777777778,\"#fb9f3a\"],[0.8888888888888888,\"#fdca26\"],[1.0,\"#f0f921\"]]}],\"heatmapgl\":[{\"type\":\"heatmapgl\",\"colorbar\":{\"outlinewidth\":0,\"ticks\":\"\"},\"colorscale\":[[0.0,\"#0d0887\"],[0.1111111111111111,\"#46039f\"],[0.2222222222222222,\"#7201a8\"],[0.3333333333333333,\"#9c179e\"],[0.4444444444444444,\"#bd3786\"],[0.5555555555555556,\"#d8576b\"],[0.6666666666666666,\"#ed7953\"],[0.7777777777777778,\"#fb9f3a\"],[0.8888888888888888,\"#fdca26\"],[1.0,\"#f0f921\"]]}],\"contourcarpet\":[{\"type\":\"contourcarpet\",\"colorbar\":{\"outlinewidth\":0,\"ticks\":\"\"}}],\"contour\":[{\"type\":\"contour\",\"colorbar\":{\"outlinewidth\":0,\"ticks\":\"\"},\"colorscale\":[[0.0,\"#0d0887\"],[0.1111111111111111,\"#46039f\"],[0.2222222222222222,\"#7201a8\"],[0.3333333333333333,\"#9c179e\"],[0.4444444444444444,\"#bd3786\"],[0.5555555555555556,\"#d8576b\"],[0.6666666666666666,\"#ed7953\"],[0.7777777777777778,\"#fb9f3a\"],[0.8888888888888888,\"#fdca26\"],[1.0,\"#f0f921\"]]}],\"surface\":[{\"type\":\"surface\",\"colorbar\":{\"outlinewidth\":0,\"ticks\":\"\"},\"colorscale\":[[0.0,\"#0d0887\"],[0.1111111111111111,\"#46039f\"],[0.2222222222222222,\"#7201a8\"],[0.3333333333333333,\"#9c179e\"],[0.4444444444444444,\"#bd3786\"],[0.5555555555555556,\"#d8576b\"],[0.6666666666666666,\"#ed7953\"],[0.7777777777777778,\"#fb9f3a\"],[0.8888888888888888,\"#fdca26\"],[1.0,\"#f0f921\"]]}],\"mesh3d\":[{\"type\":\"mesh3d\",\"colorbar\":{\"outlinewidth\":0,\"ticks\":\"\"}}],\"scatter\":[{\"fillpattern\":{\"fillmode\":\"overlay\",\"size\":10,\"solidity\":0.2},\"type\":\"scatter\"}],\"parcoords\":[{\"type\":\"parcoords\",\"line\":{\"colorbar\":{\"outlinewidth\":0,\"ticks\":\"\"}}}],\"scatterpolargl\":[{\"type\":\"scatterpolargl\",\"marker\":{\"colorbar\":{\"outlinewidth\":0,\"ticks\":\"\"}}}],\"bar\":[{\"error_x\":{\"color\":\"#2a3f5f\"},\"error_y\":{\"color\":\"#2a3f5f\"},\"marker\":{\"line\":{\"color\":\"#E5ECF6\",\"width\":0.5},\"pattern\":{\"fillmode\":\"overlay\",\"size\":10,\"solidity\":0.2}},\"type\":\"bar\"}],\"scattergeo\":[{\"type\":\"scattergeo\",\"marker\":{\"colorbar\":{\"outlinewidth\":0,\"ticks\":\"\"}}}],\"scatterpolar\":[{\"type\":\"scatterpolar\",\"marker\":{\"colorbar\":{\"outlinewidth\":0,\"ticks\":\"\"}}}],\"histogram\":[{\"marker\":{\"pattern\":{\"fillmode\":\"overlay\",\"size\":10,\"solidity\":0.2}},\"type\":\"histogram\"}],\"scattergl\":[{\"type\":\"scattergl\",\"marker\":{\"colorbar\":{\"outlinewidth\":0,\"ticks\":\"\"}}}],\"scatter3d\":[{\"type\":\"scatter3d\",\"line\":{\"colorbar\":{\"outlinewidth\":0,\"ticks\":\"\"}},\"marker\":{\"colorbar\":{\"outlinewidth\":0,\"ticks\":\"\"}}}],\"scattermapbox\":[{\"type\":\"scattermapbox\",\"marker\":{\"colorbar\":{\"outlinewidth\":0,\"ticks\":\"\"}}}],\"scatterternary\":[{\"type\":\"scatterternary\",\"marker\":{\"colorbar\":{\"outlinewidth\":0,\"ticks\":\"\"}}}],\"scattercarpet\":[{\"type\":\"scattercarpet\",\"marker\":{\"colorbar\":{\"outlinewidth\":0,\"ticks\":\"\"}}}],\"carpet\":[{\"aaxis\":{\"endlinecolor\":\"#2a3f5f\",\"gridcolor\":\"white\",\"linecolor\":\"white\",\"minorgridcolor\":\"white\",\"startlinecolor\":\"#2a3f5f\"},\"baxis\":{\"endlinecolor\":\"#2a3f5f\",\"gridcolor\":\"white\",\"linecolor\":\"white\",\"minorgridcolor\":\"white\",\"startlinecolor\":\"#2a3f5f\"},\"type\":\"carpet\"}],\"table\":[{\"cells\":{\"fill\":{\"color\":\"#EBF0F8\"},\"line\":{\"color\":\"white\"}},\"header\":{\"fill\":{\"color\":\"#C8D4E3\"},\"line\":{\"color\":\"white\"}},\"type\":\"table\"}],\"barpolar\":[{\"marker\":{\"line\":{\"color\":\"#E5ECF6\",\"width\":0.5},\"pattern\":{\"fillmode\":\"overlay\",\"size\":10,\"solidity\":0.2}},\"type\":\"barpolar\"}],\"pie\":[{\"automargin\":true,\"type\":\"pie\"}]},\"layout\":{\"autotypenumbers\":\"strict\",\"colorway\":[\"#636efa\",\"#EF553B\",\"#00cc96\",\"#ab63fa\",\"#FFA15A\",\"#19d3f3\",\"#FF6692\",\"#B6E880\",\"#FF97FF\",\"#FECB52\"],\"font\":{\"color\":\"#2a3f5f\"},\"hovermode\":\"closest\",\"hoverlabel\":{\"align\":\"left\"},\"paper_bgcolor\":\"white\",\"plot_bgcolor\":\"#E5ECF6\",\"polar\":{\"bgcolor\":\"#E5ECF6\",\"angularaxis\":{\"gridcolor\":\"white\",\"linecolor\":\"white\",\"ticks\":\"\"},\"radialaxis\":{\"gridcolor\":\"white\",\"linecolor\":\"white\",\"ticks\":\"\"}},\"ternary\":{\"bgcolor\":\"#E5ECF6\",\"aaxis\":{\"gridcolor\":\"white\",\"linecolor\":\"white\",\"ticks\":\"\"},\"baxis\":{\"gridcolor\":\"white\",\"linecolor\":\"white\",\"ticks\":\"\"},\"caxis\":{\"gridcolor\":\"white\",\"linecolor\":\"white\",\"ticks\":\"\"}},\"coloraxis\":{\"colorbar\":{\"outlinewidth\":0,\"ticks\":\"\"}},\"colorscale\":{\"sequential\":[[0.0,\"#0d0887\"],[0.1111111111111111,\"#46039f\"],[0.2222222222222222,\"#7201a8\"],[0.3333333333333333,\"#9c179e\"],[0.4444444444444444,\"#bd3786\"],[0.5555555555555556,\"#d8576b\"],[0.6666666666666666,\"#ed7953\"],[0.7777777777777778,\"#fb9f3a\"],[0.8888888888888888,\"#fdca26\"],[1.0,\"#f0f921\"]],\"sequentialminus\":[[0.0,\"#0d0887\"],[0.1111111111111111,\"#46039f\"],[0.2222222222222222,\"#7201a8\"],[0.3333333333333333,\"#9c179e\"],[0.4444444444444444,\"#bd3786\"],[0.5555555555555556,\"#d8576b\"],[0.6666666666666666,\"#ed7953\"],[0.7777777777777778,\"#fb9f3a\"],[0.8888888888888888,\"#fdca26\"],[1.0,\"#f0f921\"]],\"diverging\":[[0,\"#8e0152\"],[0.1,\"#c51b7d\"],[0.2,\"#de77ae\"],[0.3,\"#f1b6da\"],[0.4,\"#fde0ef\"],[0.5,\"#f7f7f7\"],[0.6,\"#e6f5d0\"],[0.7,\"#b8e186\"],[0.8,\"#7fbc41\"],[0.9,\"#4d9221\"],[1,\"#276419\"]]},\"xaxis\":{\"gridcolor\":\"white\",\"linecolor\":\"white\",\"ticks\":\"\",\"title\":{\"standoff\":15},\"zerolinecolor\":\"white\",\"automargin\":true,\"zerolinewidth\":2},\"yaxis\":{\"gridcolor\":\"white\",\"linecolor\":\"white\",\"ticks\":\"\",\"title\":{\"standoff\":15},\"zerolinecolor\":\"white\",\"automargin\":true,\"zerolinewidth\":2},\"scene\":{\"xaxis\":{\"backgroundcolor\":\"#E5ECF6\",\"gridcolor\":\"white\",\"linecolor\":\"white\",\"showbackground\":true,\"ticks\":\"\",\"zerolinecolor\":\"white\",\"gridwidth\":2},\"yaxis\":{\"backgroundcolor\":\"#E5ECF6\",\"gridcolor\":\"white\",\"linecolor\":\"white\",\"showbackground\":true,\"ticks\":\"\",\"zerolinecolor\":\"white\",\"gridwidth\":2},\"zaxis\":{\"backgroundcolor\":\"#E5ECF6\",\"gridcolor\":\"white\",\"linecolor\":\"white\",\"showbackground\":true,\"ticks\":\"\",\"zerolinecolor\":\"white\",\"gridwidth\":2}},\"shapedefaults\":{\"line\":{\"color\":\"#2a3f5f\"}},\"annotationdefaults\":{\"arrowcolor\":\"#2a3f5f\",\"arrowhead\":0,\"arrowwidth\":1},\"geo\":{\"bgcolor\":\"white\",\"landcolor\":\"#E5ECF6\",\"subunitcolor\":\"white\",\"showland\":true,\"showlakes\":true,\"lakecolor\":\"white\"},\"title\":{\"x\":0.05},\"mapbox\":{\"style\":\"light\"}}},\"geo\":{\"domain\":{\"x\":[0.0,1.0],\"y\":[0.0,1.0]},\"projection\":{\"type\":\"natural earth\"},\"center\":{}},\"coloraxis\":{\"colorbar\":{\"title\":{\"text\":\"Prevalence (%)\"}},\"colorscale\":[[0.0,\"rgb(253, 237, 176)\"],[0.09090909090909091,\"rgb(250, 205, 145)\"],[0.18181818181818182,\"rgb(246, 173, 119)\"],[0.2727272727272727,\"rgb(240, 142, 98)\"],[0.36363636363636365,\"rgb(231, 109, 84)\"],[0.45454545454545453,\"rgb(216, 80, 83)\"],[0.5454545454545454,\"rgb(195, 56, 90)\"],[0.6363636363636364,\"rgb(168, 40, 96)\"],[0.7272727272727273,\"rgb(138, 29, 99)\"],[0.8181818181818182,\"rgb(107, 24, 93)\"],[0.9090909090909091,\"rgb(76, 21, 80)\"],[1.0,\"rgb(47, 15, 61)\"]]},\"legend\":{\"tracegroupgap\":0},\"margin\":{\"t\":0,\"l\":0,\"r\":0,\"b\":0},\"width\":1200,\"height\":600},                        {\"responsive\": true}                    ).then(function(){\n",
       "                            \n",
       "var gd = document.getElementById('a49f83a7-d35a-44b8-8fa0-eba82eb4b39b');\n",
       "var x = new MutationObserver(function (mutations, observer) {{\n",
       "        var display = window.getComputedStyle(gd).display;\n",
       "        if (!display || display === 'none') {{\n",
       "            console.log([gd, 'removed!']);\n",
       "            Plotly.purge(gd);\n",
       "            observer.disconnect();\n",
       "        }}\n",
       "}});\n",
       "\n",
       "// Listen for the removal of the full notebook cells\n",
       "var notebookContainer = gd.closest('#notebook-container');\n",
       "if (notebookContainer) {{\n",
       "    x.observe(notebookContainer, {childList: true});\n",
       "}}\n",
       "\n",
       "// Listen for the clearing of the current output cell\n",
       "var outputEl = gd.closest('.output');\n",
       "if (outputEl) {{\n",
       "    x.observe(outputEl, {childList: true});\n",
       "}}\n",
       "\n",
       "                        })                };                });            </script>        </div>"
      ]
     },
     "metadata": {},
     "output_type": "display_data"
    }
   ],
   "source": [
    "# Pull in youth data - current\n",
    "indicator_name2 = 'Yth_curr_e-cig'\n",
    "response2 = requests.get(base_url + indicator_name2)\n",
    "\n",
    "# Get data in json format\n",
    "yth_curr_ecig = response2.json()\n",
    "\n",
    "# Get data and create dataframe\n",
    "yth_curr_ecig_data = yth_curr_ecig['value']\n",
    "yth_curr_ecig_df = pd.DataFrame(yth_curr_ecig_data)\n",
    "\n",
    "# Remove NaN\n",
    "yth_curr_ecig_df_clean = yth_curr_ecig_df[yth_curr_ecig_df['NumericValue'].notna()]\n",
    "\n",
    "# sort values then select specific columns and rename them\n",
    "yth_curr_ecig_df_clean.sort_values(['SpatialDim', 'Dim1', 'TimeDim']).head(10)\n",
    "yth_curr_ecig_df_clean2 = yth_curr_ecig_df_clean[['IndicatorCode','SpatialDim','ParentLocation','Dim1','TimeDim','NumericValue']]\n",
    "yth_curr_ecig_df_rename = yth_curr_ecig_df_clean2.rename(columns={'SpatialDim':'Country',\n",
    "                                                                  'ParentLocation' : 'Region',\n",
    "                                                                  'Dim1': 'Sex',\n",
    "                                                                  'TimeDim':'Year',\n",
    "                                                                  'NumericValue':'Prevalence (%)'                                                                   \n",
    "                                                                  })\n",
    "\n",
    "# https://www.quora.com/How-do-you-delete-quotes-and-double-quotes-from-DataFrame-Python-regex-pandas-dataframe-development\n",
    "yth_curr_ecig_df_rename['Sex'] = yth_curr_ecig_df_rename['Sex'].replace({'SEX_BTSX': 'Overall'}, regex=True)\n",
    "yth_curr_ecig_df_rename['Sex'] = yth_curr_ecig_df_rename['Sex'].replace({'SEX_MLE': 'Male'}, regex=True)\n",
    "yth_curr_ecig_df_rename['Sex'] = yth_curr_ecig_df_rename['Sex'].replace({'SEX_FMLE': 'Female'}, regex=True)\n",
    "\n",
    "# Get overall by Sex only\n",
    "yth_ecig_overall = yth_curr_ecig_df_rename.loc[(yth_curr_ecig_df_rename['Sex']=='Overall')]\n",
    "\n",
    "# Get min/max of Year\n",
    "min_yr_youth = yth_ecig_overall['Year'].min()\n",
    "max_yr_youth = yth_ecig_overall['Year'].max()\n",
    "max_prevalence_yth = yth_ecig_overall['Prevalence (%)'].max()\n",
    "max_prevalence_yth_country = yth_ecig_overall['Country'].loc[(yth_ecig_overall['Prevalence (%)']==max_prevalence_yth)]\n",
    "# print(f\"{max_prevalence_yth_country} {max_prevalence_yth}%\")\n",
    "\n",
    "# Youth e-cigarette prevalence map plot\n",
    "import plotly.express as px\n",
    "\n",
    "fig = px.choropleth(yth_ecig_overall, locations=\"Country\",\n",
    "                    color=\"Prevalence (%)\", \n",
    "                    hover_data = ['Country','Region','Prevalence (%)'],\n",
    "                    color_continuous_scale=px.colors.sequential.matter,\n",
    "                    projection='natural earth'\n",
    "                    # title='Countries with recorded adult e-cigarette use in 2019'\n",
    "                    )\n",
    "# https://stackoverflow.com/questions/63466163/how-to-enlarge-geographic-map-in-python-plotly-choropleth-plot\n",
    "fig.update_layout(margin=dict(l=0, r=0, b=0, t=0),\n",
    "                  width=1200, \n",
    "                  height=600)\n",
    "print('Prevalence of adolescent e-cigarette use')\n",
    "print('Datasource: World Health Organisation')\n",
    "print(f\"Data collected between {min_yr_youth} and {max_yr_youth}\")\n",
    "\n",
    "fig.show()"
   ]
  },
  {
   "cell_type": "markdown",
   "id": "dcbd1149-4cec-4744-bafc-5bd551e1baaf",
   "metadata": {},
   "source": [
    "## Adult daily e-cigarette use"
   ]
  },
  {
   "cell_type": "code",
   "execution_count": 13,
   "id": "fbb5ac70-b970-42dc-8fd5-041bc31d6bc1",
   "metadata": {},
   "outputs": [
    {
     "data": {
      "image/png": "[encoded data removed]",
      "text/plain": [
       "<Figure size 640x480 with 1 Axes>"
      ]
     },
     "metadata": {},
     "output_type": "display_data"
    }
   ],
   "source": [
    "# Pull in adult data - daily\n",
    "indicator_name3 = 'Adult_daily_e-cig'\n",
    "response3 = requests.get(base_url + indicator_name3)\n",
    "\n",
    "# Get data in json format\n",
    "adult_dly_ecig = response3.json()\n",
    "\n",
    "# Get data and create dataframe\n",
    "adult_dly_ecig_data = adult_dly_ecig['value']\n",
    "adult_dly_ecig_df = pd.DataFrame(adult_dly_ecig_data)\n",
    "\n",
    "# Remove all rows with NaN in Prevalence column\n",
    "adult_dly_ecig_df_clean = adult_dly_ecig_df[adult_dly_ecig_df['NumericValue'].notna()]\n",
    "\n",
    "# Rename columns\n",
    "adult_dly_ecig_df_rename = adult_dly_ecig_df_clean.rename(columns={'SpatialDim':'Country',\n",
    "                                                                   'ParentLocation' : 'Region',\n",
    "                                                                   'Dim1': 'Sex',\n",
    "                                                                   'TimeDim':'Year',\n",
    "                                                                   'NumericValue':'Prevalence (%)'                                                                   \n",
    "                                                                  })         \n",
    "\n",
    "# Give more intuitive labels for Sex\n",
    "adult_dly_ecig_df_rename['Sex'] = adult_dly_ecig_df_rename['Sex'].replace({'SEX_BTSX': 'Overall'}, regex=True)\n",
    "adult_dly_ecig_df_rename['Sex'] = adult_dly_ecig_df_rename['Sex'].replace({'SEX_MLE': 'Male'}, regex=True)\n",
    "adult_dly_ecig_df_rename['Sex'] = adult_dly_ecig_df_rename['Sex'].replace({'SEX_FMLE': 'Female'}, regex=True)\n",
    "\n",
    "# group by country code, get number of observations of each\n",
    "adult_dly_ecig_group = adult_dly_ecig_df_rename.groupby(['Country']).size()\n",
    "adult_dly_ecig_df = pd.DataFrame(adult_dly_ecig_group)\n",
    "adult_dly_ecig_df = adult_dly_ecig_df.rename(columns={0: \"CountObs\"})\n",
    "\n",
    "# Merge number of observations back onto original clean dataframe\n",
    "adult_dly_ecig_df_merge = pd.merge(adult_dly_ecig_df_rename,adult_dly_ecig_df, on='Country', how='left')\n",
    "\n",
    "adult_dly_ecig_df_merge2 = adult_dly_ecig_df_merge.sort_values(['Country'])\n",
    "\n",
    "# Get male and female observations only, sort again by country code and year\n",
    "adult_dly_ecig_M_F = adult_dly_ecig_df_merge2.loc[(adult_dly_ecig_df_merge2['Sex'] != 'Overall')]\n",
    "adult_dly_ecig_M_F2 = adult_dly_ecig_M_F.sort_values(['Country','Sex'])\n",
    "\n",
    "# Only get countries where there are all observations\n",
    "adult_dly_ecig_all = adult_dly_ecig_M_F2.loc[(adult_dly_ecig_M_F2['CountObs']==3)]\n",
    "\n",
    "# Get min and max for data collection years\n",
    "min_year_adult_dly = adult_dly_ecig_all['Year'].min()\n",
    "max_year_adult_dly = adult_dly_ecig_all['Year'].max()\n",
    "\n",
    "# Create lists ready for side by side bar plot data\n",
    "# https://matplotlib.org/stable/gallery/lines_bars_and_markers/barchart.html\n",
    "Countries = list(adult_dly_ecig_all['Country'].unique())\n",
    "\n",
    "Female_data = list(adult_dly_ecig_all['Prevalence (%)'].loc[(adult_dly_ecig_all['Sex']=='Female')])\n",
    "\n",
    "Male_data = list(adult_dly_ecig_all['Prevalence (%)'].loc[(adult_dly_ecig_all['Sex']=='Male')])\n",
    "\n",
    "# print(f\"{max(Male_data)}, {max(Female_data)}\")\n",
    "\n",
    "# Create dataframe for side by side barplot\n",
    "M_F_adult_dly_prevalence = pd.DataFrame({'Country': Countries,\n",
    "                                        'Female': Female_data,\n",
    "                                        'Male': Male_data,\n",
    "                                        })\n",
    "\n",
    "# Plot a grouped bar chart\n",
    "# https://www.geeksforgeeks.org/create-a-grouped-bar-plot-in-matplotlib/\n",
    "x = np.arange(len(Countries))\n",
    "width = 0.40\n",
    "plt.bar(x-0.2, Female_data, width, color='deepskyblue')\n",
    "plt.bar(x+0.2, Male_data, width, color='darkblue')\n",
    "plt.xticks(x, Countries, rotation=90)\n",
    "plt.xlabel('Country')\n",
    "plt.ylabel('Prevalence of e-cigarette use (%)')\n",
    "plt.title(f\"Prevalence of adult e-cigarette use by sex and country (%)\\n(Data collected between {min_year_adult_dly} and {max_year_adult_dly})\")\n",
    "plt.legend([\"Female\", \"Male\"]) \n",
    "\n",
    "plt.savefig('../Output_Files/WHO_adult_curr_use.png')\n",
    "\n",
    "plt.show()"
   ]
  },
  {
   "cell_type": "markdown",
   "id": "ffc81f3f-38af-446a-8dac-aa2204f9a953",
   "metadata": {},
   "source": [
    "## Adolescent daily e-cigarette use"
   ]
  },
  {
   "cell_type": "code",
   "execution_count": 14,
   "id": "d30d631c-a237-468a-ab42-7c7cf556ce4c",
   "metadata": {},
   "outputs": [
    {
     "data": {
      "image/png": "[encoded data removed]",
      "text/plain": [
       "<Figure size 640x480 with 1 Axes>"
      ]
     },
     "metadata": {},
     "output_type": "display_data"
    }
   ],
   "source": [
    "# Pull in youth data - daily\n",
    "indicator_name4 = 'Yth_daily_e-cig'\n",
    "response4 = requests.get(base_url + indicator_name4)\n",
    "\n",
    "# Get data in json format\n",
    "yth_dly_ecig = response4.json()\n",
    "\n",
    "# Get data and create dataframe\n",
    "yth_dly_ecig_data = yth_dly_ecig['value']\n",
    "yth_dly_ecig_df = pd.DataFrame(yth_dly_ecig_data)\n",
    "\n",
    "# Remove all rows with NaN in Prevalence column\n",
    "yth_dly_ecig_df_clean = yth_dly_ecig_df[yth_dly_ecig_df['NumericValue'].notna()]\n",
    "\n",
    "# Rename columns\n",
    "yth_dly_ecig_df_rename = yth_dly_ecig_df_clean.rename(columns={'SpatialDim':'Country',\n",
    "                                                               'ParentLocation' : 'Region',\n",
    "                                                               'Dim1': 'Sex',\n",
    "                                                               'TimeDim':'Year',\n",
    "                                                               'NumericValue':'Prevalence (%)'                                                                   \n",
    "                                                              })         \n",
    "\n",
    "# Give more intuitive labels for Sex\n",
    "yth_dly_ecig_df_rename['Sex'] = yth_dly_ecig_df_rename['Sex'].replace({'SEX_BTSX': 'Overall'}, regex=True)\n",
    "yth_dly_ecig_df_rename['Sex'] = yth_dly_ecig_df_rename['Sex'].replace({'SEX_MLE': 'Male'}, regex=True)\n",
    "yth_dly_ecig_df_rename['Sex'] = yth_dly_ecig_df_rename['Sex'].replace({'SEX_FMLE': 'Female'}, regex=True)\n",
    "\n",
    "# group by country code, get number of observations of each\n",
    "yth_dly_ecig_group = yth_dly_ecig_df_rename.groupby(['Country']).size()\n",
    "yth_dly_ecig_df = pd.DataFrame(yth_dly_ecig_group)\n",
    "yth_dly_ecig_df = yth_dly_ecig_df.rename(columns={0: \"CountObs\"})\n",
    "\n",
    "# Merge number of observations back onto original clean dataframe\n",
    "yth_dly_ecig_df_merge = pd.merge(yth_dly_ecig_df_rename,yth_dly_ecig_df, on='Country', how='left')\n",
    "\n",
    "yth_dly_ecig_df_merge2 = yth_dly_ecig_df_merge.sort_values(['Country'])\n",
    "\n",
    "# Get male and female observations only, sort again by country code and year\n",
    "yth_dly_ecig_M_F = yth_dly_ecig_df_merge2.loc[(yth_dly_ecig_df_merge2['Sex'] != 'Overall')]\n",
    "yth_dly_ecig_M_F2 = yth_dly_ecig_M_F.sort_values(['Country','Sex'])\n",
    "\n",
    "# Only get countries where there are all observations\n",
    "yth_dly_ecig_all = yth_dly_ecig_M_F2.loc[(yth_dly_ecig_M_F2['CountObs']==3)]\n",
    "\n",
    "# Get min and max for data collection years\n",
    "min_year_yth_dly = yth_dly_ecig_all['Year'].min()\n",
    "max_year_yth_dly = yth_dly_ecig_all['Year'].max()\n",
    "\n",
    "# Create lists ready for side by side bar plot data\n",
    "# https://matplotlib.org/stable/gallery/lines_bars_and_markers/barchart.html\n",
    "Countries = list(yth_dly_ecig_all['Country'].unique())\n",
    "\n",
    "Female_data = list(yth_dly_ecig_all['Prevalence (%)'].loc[(yth_dly_ecig_all['Sex']=='Female')])\n",
    "\n",
    "Male_data = list(yth_dly_ecig_all['Prevalence (%)'].loc[(yth_dly_ecig_all['Sex']=='Male')])\n",
    "\n",
    "# print(f\"{max(Male_data)}, {max(Female_data)}\")\n",
    "\n",
    "# Create dataframe for side by side barplot\n",
    "M_F_yth_dly_prevalence = pd.DataFrame({'Country': Countries,\n",
    "                                        'Female': Female_data,\n",
    "                                        'Male': Male_data,\n",
    "                                        })\n",
    "\n",
    "# Plot a grouped bar chart\n",
    "# https://www.geeksforgeeks.org/create-a-grouped-bar-plot-in-matplotlib/\n",
    "x = np.arange(len(Countries))\n",
    "width = 0.40\n",
    "plt.bar(x-0.2, Female_data, width, color='thistle')\n",
    "plt.bar(x+0.2, Male_data, width, color='rebeccapurple')\n",
    "plt.xticks(x, Countries, rotation=90)\n",
    "plt.xlabel('Country')\n",
    "plt.ylabel('Prevalence of e-cigarette use (%)')\n",
    "plt.title(f\"Prevalence of adolescent e-cigarette use by sex and country (%)\\n(Data collected between {min_year_yth_dly} and {max_year_yth_dly})\")\n",
    "plt.legend([\"Female\", \"Male\"]) \n",
    "\n",
    "plt.savefig('../Output_Files/WHO_youth_curr_use.png')\n",
    "\n",
    "plt.show()"
   ]
  },
  {
   "cell_type": "code",
   "execution_count": null,
   "id": "39701a8c-2eae-474f-9a09-ebcef41ff478",
   "metadata": {},
   "outputs": [],
   "source": []
  }
 ],
 "metadata": {
  "kernelspec": {
   "display_name": "Python 3 (ipykernel)",
   "language": "python",
   "name": "python3"
  },
  "language_info": {
   "codemirror_mode": {
    "name": "ipython",
    "version": 3
   },
   "file_extension": ".py",
   "mimetype": "text/x-python",
   "name": "python",
   "nbconvert_exporter": "python",
   "pygments_lexer": "ipython3",
   "version": "3.11.5"
  }
 },
 "nbformat": 4,
 "nbformat_minor": 5
}
